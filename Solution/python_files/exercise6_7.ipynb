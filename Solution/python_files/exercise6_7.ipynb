{
 "cells": [
  {
   "cell_type": "code",
   "execution_count": 1,
   "metadata": {},
   "outputs": [],
   "source": [
    "import pandas as pd"
   ]
  },
  {
   "cell_type": "code",
   "execution_count": 2,
   "metadata": {},
   "outputs": [],
   "source": [
    "data_ndvi = [['May',3,0.84323],['June',3,0.824573],['July',3,0.320378],['May',5,0.773826],['June',5,0.59776],['July',5,0.661778],['May',48,0.866923],\n",
    "       ['June',48,0.6865357],['July',48,0.764982],['May',50,0.867683],['June',50,0.828345],['July',50,0.791617],['May',94,0.835853],\n",
    "       ['June',94,0.7451488],['July',94,0.729657],['May',97,0.8587167],['June',97,0.727397],['July',97,0.306645]]\n"
   ]
  },
  {
   "cell_type": "code",
   "execution_count": 3,
   "metadata": {},
   "outputs": [],
   "source": [
    "df_NDVI = pd.DataFrame(data_ndvi, columns=[\"Month\", \"Polygon_id\",\"NDVI\"])"
   ]
  },
  {
   "cell_type": "code",
   "execution_count": 4,
   "metadata": {},
   "outputs": [],
   "source": [
    "data_smi = [['May',3,0.84323,0.151657],['June',3,0.824573,0.0650379],['July',3,0.320378,0.135063],['May',5,0.773826,0.162878],\n",
    "            ['June',5,0.59776,0.0650379],['July',5,0.661778,0.135063],['May',48,0.866923,0.162878],\n",
    "       ['June',48,0.6865357,0.0409779],['July',48,0.764982,0.138233],['May',50,0.867683,0.162878],['June',50,0.828345,0.0409779],\n",
    "            ['July',50,0.791617,0.138233],['May',94,0.835853,0.186076],\n",
    "       ['June',94,0.7451488,0.11282],['July',94,0.729657,0.285952],['May',97,0.8587167,0.186076],['June',97,0.727397,0.11282],['July',97,0.306645,0.285952]]\n"
   ]
  },
  {
   "cell_type": "code",
   "execution_count": 5,
   "metadata": {},
   "outputs": [],
   "source": [
    "df=pd.DataFrame(data_smi, columns=[\"Month\", \"Polygon_id\",\"NDVI\",\"SMI\"])"
   ]
  },
  {
   "cell_type": "code",
   "execution_count": 6,
   "metadata": {},
   "outputs": [
    {
     "data": {
      "text/html": [
       "<div>\n",
       "<style scoped>\n",
       "    .dataframe tbody tr th:only-of-type {\n",
       "        vertical-align: middle;\n",
       "    }\n",
       "\n",
       "    .dataframe tbody tr th {\n",
       "        vertical-align: top;\n",
       "    }\n",
       "\n",
       "    .dataframe thead th {\n",
       "        text-align: right;\n",
       "    }\n",
       "</style>\n",
       "<table border=\"1\" class=\"dataframe\">\n",
       "  <thead>\n",
       "    <tr style=\"text-align: right;\">\n",
       "      <th></th>\n",
       "      <th>Month</th>\n",
       "      <th>Polygon_id</th>\n",
       "      <th>NDVI</th>\n",
       "      <th>SMI</th>\n",
       "    </tr>\n",
       "  </thead>\n",
       "  <tbody>\n",
       "    <tr>\n",
       "      <th>0</th>\n",
       "      <td>May</td>\n",
       "      <td>3</td>\n",
       "      <td>0.843230</td>\n",
       "      <td>0.151657</td>\n",
       "    </tr>\n",
       "    <tr>\n",
       "      <th>1</th>\n",
       "      <td>June</td>\n",
       "      <td>3</td>\n",
       "      <td>0.824573</td>\n",
       "      <td>0.065038</td>\n",
       "    </tr>\n",
       "    <tr>\n",
       "      <th>2</th>\n",
       "      <td>July</td>\n",
       "      <td>3</td>\n",
       "      <td>0.320378</td>\n",
       "      <td>0.135063</td>\n",
       "    </tr>\n",
       "    <tr>\n",
       "      <th>3</th>\n",
       "      <td>May</td>\n",
       "      <td>5</td>\n",
       "      <td>0.773826</td>\n",
       "      <td>0.162878</td>\n",
       "    </tr>\n",
       "    <tr>\n",
       "      <th>4</th>\n",
       "      <td>June</td>\n",
       "      <td>5</td>\n",
       "      <td>0.597760</td>\n",
       "      <td>0.065038</td>\n",
       "    </tr>\n",
       "    <tr>\n",
       "      <th>5</th>\n",
       "      <td>July</td>\n",
       "      <td>5</td>\n",
       "      <td>0.661778</td>\n",
       "      <td>0.135063</td>\n",
       "    </tr>\n",
       "    <tr>\n",
       "      <th>6</th>\n",
       "      <td>May</td>\n",
       "      <td>48</td>\n",
       "      <td>0.866923</td>\n",
       "      <td>0.162878</td>\n",
       "    </tr>\n",
       "    <tr>\n",
       "      <th>7</th>\n",
       "      <td>June</td>\n",
       "      <td>48</td>\n",
       "      <td>0.686536</td>\n",
       "      <td>0.040978</td>\n",
       "    </tr>\n",
       "    <tr>\n",
       "      <th>8</th>\n",
       "      <td>July</td>\n",
       "      <td>48</td>\n",
       "      <td>0.764982</td>\n",
       "      <td>0.138233</td>\n",
       "    </tr>\n",
       "    <tr>\n",
       "      <th>9</th>\n",
       "      <td>May</td>\n",
       "      <td>50</td>\n",
       "      <td>0.867683</td>\n",
       "      <td>0.162878</td>\n",
       "    </tr>\n",
       "    <tr>\n",
       "      <th>10</th>\n",
       "      <td>June</td>\n",
       "      <td>50</td>\n",
       "      <td>0.828345</td>\n",
       "      <td>0.040978</td>\n",
       "    </tr>\n",
       "    <tr>\n",
       "      <th>11</th>\n",
       "      <td>July</td>\n",
       "      <td>50</td>\n",
       "      <td>0.791617</td>\n",
       "      <td>0.138233</td>\n",
       "    </tr>\n",
       "    <tr>\n",
       "      <th>12</th>\n",
       "      <td>May</td>\n",
       "      <td>94</td>\n",
       "      <td>0.835853</td>\n",
       "      <td>0.186076</td>\n",
       "    </tr>\n",
       "    <tr>\n",
       "      <th>13</th>\n",
       "      <td>June</td>\n",
       "      <td>94</td>\n",
       "      <td>0.745149</td>\n",
       "      <td>0.112820</td>\n",
       "    </tr>\n",
       "    <tr>\n",
       "      <th>14</th>\n",
       "      <td>July</td>\n",
       "      <td>94</td>\n",
       "      <td>0.729657</td>\n",
       "      <td>0.285952</td>\n",
       "    </tr>\n",
       "    <tr>\n",
       "      <th>15</th>\n",
       "      <td>May</td>\n",
       "      <td>97</td>\n",
       "      <td>0.858717</td>\n",
       "      <td>0.186076</td>\n",
       "    </tr>\n",
       "    <tr>\n",
       "      <th>16</th>\n",
       "      <td>June</td>\n",
       "      <td>97</td>\n",
       "      <td>0.727397</td>\n",
       "      <td>0.112820</td>\n",
       "    </tr>\n",
       "    <tr>\n",
       "      <th>17</th>\n",
       "      <td>July</td>\n",
       "      <td>97</td>\n",
       "      <td>0.306645</td>\n",
       "      <td>0.285952</td>\n",
       "    </tr>\n",
       "  </tbody>\n",
       "</table>\n",
       "</div>"
      ],
      "text/plain": [
       "   Month  Polygon_id      NDVI       SMI\n",
       "0    May           3  0.843230  0.151657\n",
       "1   June           3  0.824573  0.065038\n",
       "2   July           3  0.320378  0.135063\n",
       "3    May           5  0.773826  0.162878\n",
       "4   June           5  0.597760  0.065038\n",
       "5   July           5  0.661778  0.135063\n",
       "6    May          48  0.866923  0.162878\n",
       "7   June          48  0.686536  0.040978\n",
       "8   July          48  0.764982  0.138233\n",
       "9    May          50  0.867683  0.162878\n",
       "10  June          50  0.828345  0.040978\n",
       "11  July          50  0.791617  0.138233\n",
       "12   May          94  0.835853  0.186076\n",
       "13  June          94  0.745149  0.112820\n",
       "14  July          94  0.729657  0.285952\n",
       "15   May          97  0.858717  0.186076\n",
       "16  June          97  0.727397  0.112820\n",
       "17  July          97  0.306645  0.285952"
      ]
     },
     "execution_count": 6,
     "metadata": {},
     "output_type": "execute_result"
    }
   ],
   "source": [
    "df"
   ]
  },
  {
   "cell_type": "code",
   "execution_count": 7,
   "metadata": {},
   "outputs": [],
   "source": [
    "data_smi = [['May',3,0.151657],['June',3,0.0650379],['July',3,0.135063],['August',3,0.845704],['May',5,0.162878],\n",
    "    ['June',5,0.0650379],['July',5,0.135063],['August',5,0.845704],['May',48,0.162878],\n",
    "    ['June',48,0.0409779],['July',48,0.138233],['August',48,0.677873],['May',50,0.162878],['June',50,0.0409779],\n",
    "    ['July',50,0.138233],['August',50,0.677873],['May',94,0.186076],\n",
    "    ['June',94,0.11282],['July',94,0.285952],['August',94,0.863459],['May',97,0.186076],['June',97,0.11282],['July',97,0.285952],['August',97,0.863459]]\n"
   ]
  },
  {
   "cell_type": "code",
   "execution_count": 8,
   "metadata": {},
   "outputs": [],
   "source": [
    "df1 =pd.DataFrame(data_smi, columns=[\"Month\", \"Polygon_id\",\"SMI\"])"
   ]
  },
  {
   "cell_type": "code",
   "execution_count": 9,
   "metadata": {},
   "outputs": [],
   "source": [
    "#df1"
   ]
  },
  {
   "cell_type": "markdown",
   "metadata": {},
   "source": [
    "## Correlation between NDVI and SMI"
   ]
  },
  {
   "cell_type": "code",
   "execution_count": null,
   "metadata": {},
   "outputs": [],
   "source": []
  },
  {
   "cell_type": "code",
   "execution_count": 10,
   "metadata": {},
   "outputs": [],
   "source": [
    "df_smi = [[3,0.151657,0.0650379,0.135063,0.84323,0.824573,0.320378],\n",
    "          [5,0.162878,0.0650379,0.135063,0.773826,0.59776,0.661778],\n",
    "          [48,0.162878,0.0409779,0.138233,0.866923,0.6865357,0.764982],\n",
    "          [50,0.162878,0.0409779,0.138233,0.867683,0.828345,0.791617],\n",
    "          [94,0.186076,0.11282,0.285952,0.835853,0.7451488,0.729657],\n",
    "          [97,0.186076,0.11282,0.285952,0.8587167,0.727397,0.306645]]"
   ]
  },
  {
   "cell_type": "code",
   "execution_count": 11,
   "metadata": {},
   "outputs": [],
   "source": [
    "df_SMI_NDVI =pd.DataFrame(df_smi, columns=[\"Polygon_id\",\"May_SMI\",'June_SMI','July_SMI',\"May_NDVI\",'June_NDVI','July_NDVI'])"
   ]
  },
  {
   "cell_type": "code",
   "execution_count": 12,
   "metadata": {},
   "outputs": [
    {
     "data": {
      "text/html": [
       "<div>\n",
       "<style scoped>\n",
       "    .dataframe tbody tr th:only-of-type {\n",
       "        vertical-align: middle;\n",
       "    }\n",
       "\n",
       "    .dataframe tbody tr th {\n",
       "        vertical-align: top;\n",
       "    }\n",
       "\n",
       "    .dataframe thead th {\n",
       "        text-align: right;\n",
       "    }\n",
       "</style>\n",
       "<table border=\"1\" class=\"dataframe\">\n",
       "  <thead>\n",
       "    <tr style=\"text-align: right;\">\n",
       "      <th></th>\n",
       "      <th>Polygon_id</th>\n",
       "      <th>May_SMI</th>\n",
       "      <th>June_SMI</th>\n",
       "      <th>July_SMI</th>\n",
       "      <th>May_NDVI</th>\n",
       "      <th>June_NDVI</th>\n",
       "      <th>July_NDVI</th>\n",
       "    </tr>\n",
       "  </thead>\n",
       "  <tbody>\n",
       "    <tr>\n",
       "      <th>0</th>\n",
       "      <td>3</td>\n",
       "      <td>0.151657</td>\n",
       "      <td>0.065038</td>\n",
       "      <td>0.135063</td>\n",
       "      <td>0.843230</td>\n",
       "      <td>0.824573</td>\n",
       "      <td>0.320378</td>\n",
       "    </tr>\n",
       "    <tr>\n",
       "      <th>1</th>\n",
       "      <td>5</td>\n",
       "      <td>0.162878</td>\n",
       "      <td>0.065038</td>\n",
       "      <td>0.135063</td>\n",
       "      <td>0.773826</td>\n",
       "      <td>0.597760</td>\n",
       "      <td>0.661778</td>\n",
       "    </tr>\n",
       "    <tr>\n",
       "      <th>2</th>\n",
       "      <td>48</td>\n",
       "      <td>0.162878</td>\n",
       "      <td>0.040978</td>\n",
       "      <td>0.138233</td>\n",
       "      <td>0.866923</td>\n",
       "      <td>0.686536</td>\n",
       "      <td>0.764982</td>\n",
       "    </tr>\n",
       "    <tr>\n",
       "      <th>3</th>\n",
       "      <td>50</td>\n",
       "      <td>0.162878</td>\n",
       "      <td>0.040978</td>\n",
       "      <td>0.138233</td>\n",
       "      <td>0.867683</td>\n",
       "      <td>0.828345</td>\n",
       "      <td>0.791617</td>\n",
       "    </tr>\n",
       "    <tr>\n",
       "      <th>4</th>\n",
       "      <td>94</td>\n",
       "      <td>0.186076</td>\n",
       "      <td>0.112820</td>\n",
       "      <td>0.285952</td>\n",
       "      <td>0.835853</td>\n",
       "      <td>0.745149</td>\n",
       "      <td>0.729657</td>\n",
       "    </tr>\n",
       "    <tr>\n",
       "      <th>5</th>\n",
       "      <td>97</td>\n",
       "      <td>0.186076</td>\n",
       "      <td>0.112820</td>\n",
       "      <td>0.285952</td>\n",
       "      <td>0.858717</td>\n",
       "      <td>0.727397</td>\n",
       "      <td>0.306645</td>\n",
       "    </tr>\n",
       "  </tbody>\n",
       "</table>\n",
       "</div>"
      ],
      "text/plain": [
       "   Polygon_id   May_SMI  June_SMI  July_SMI  May_NDVI  June_NDVI  July_NDVI\n",
       "0           3  0.151657  0.065038  0.135063  0.843230   0.824573   0.320378\n",
       "1           5  0.162878  0.065038  0.135063  0.773826   0.597760   0.661778\n",
       "2          48  0.162878  0.040978  0.138233  0.866923   0.686536   0.764982\n",
       "3          50  0.162878  0.040978  0.138233  0.867683   0.828345   0.791617\n",
       "4          94  0.186076  0.112820  0.285952  0.835853   0.745149   0.729657\n",
       "5          97  0.186076  0.112820  0.285952  0.858717   0.727397   0.306645"
      ]
     },
     "execution_count": 12,
     "metadata": {},
     "output_type": "execute_result"
    }
   ],
   "source": [
    "df_SMI_NDVI"
   ]
  },
  {
   "cell_type": "code",
   "execution_count": 13,
   "metadata": {},
   "outputs": [],
   "source": [
    "data_SMI = [[3,0.151657,0.0650379,0.135063],\n",
    "          [5,0.162878,0.0650379,0.135063,],\n",
    "          [48,0.162878,0.0409779,0.138233,],\n",
    "          [50,0.162878,0.0409779,0.138233,],\n",
    "          [94,0.186076,0.11282,0.285952,],\n",
    "          [97,0.186076,0.11282,0.285952,]]"
   ]
  },
  {
   "cell_type": "code",
   "execution_count": 14,
   "metadata": {},
   "outputs": [],
   "source": [
    "df_SMI =pd.DataFrame(data_SMI, columns=[\"Polygon_id\",\"May_SMI\",'June_SMI','July_SMI'])"
   ]
  },
  {
   "cell_type": "code",
   "execution_count": 15,
   "metadata": {},
   "outputs": [
    {
     "data": {
      "text/html": [
       "<div>\n",
       "<style scoped>\n",
       "    .dataframe tbody tr th:only-of-type {\n",
       "        vertical-align: middle;\n",
       "    }\n",
       "\n",
       "    .dataframe tbody tr th {\n",
       "        vertical-align: top;\n",
       "    }\n",
       "\n",
       "    .dataframe thead th {\n",
       "        text-align: right;\n",
       "    }\n",
       "</style>\n",
       "<table border=\"1\" class=\"dataframe\">\n",
       "  <thead>\n",
       "    <tr style=\"text-align: right;\">\n",
       "      <th></th>\n",
       "      <th>Polygon_id</th>\n",
       "      <th>May_SMI</th>\n",
       "      <th>June_SMI</th>\n",
       "      <th>July_SMI</th>\n",
       "    </tr>\n",
       "  </thead>\n",
       "  <tbody>\n",
       "    <tr>\n",
       "      <th>0</th>\n",
       "      <td>3</td>\n",
       "      <td>0.151657</td>\n",
       "      <td>0.065038</td>\n",
       "      <td>0.135063</td>\n",
       "    </tr>\n",
       "    <tr>\n",
       "      <th>1</th>\n",
       "      <td>5</td>\n",
       "      <td>0.162878</td>\n",
       "      <td>0.065038</td>\n",
       "      <td>0.135063</td>\n",
       "    </tr>\n",
       "    <tr>\n",
       "      <th>2</th>\n",
       "      <td>48</td>\n",
       "      <td>0.162878</td>\n",
       "      <td>0.040978</td>\n",
       "      <td>0.138233</td>\n",
       "    </tr>\n",
       "    <tr>\n",
       "      <th>3</th>\n",
       "      <td>50</td>\n",
       "      <td>0.162878</td>\n",
       "      <td>0.040978</td>\n",
       "      <td>0.138233</td>\n",
       "    </tr>\n",
       "    <tr>\n",
       "      <th>4</th>\n",
       "      <td>94</td>\n",
       "      <td>0.186076</td>\n",
       "      <td>0.112820</td>\n",
       "      <td>0.285952</td>\n",
       "    </tr>\n",
       "    <tr>\n",
       "      <th>5</th>\n",
       "      <td>97</td>\n",
       "      <td>0.186076</td>\n",
       "      <td>0.112820</td>\n",
       "      <td>0.285952</td>\n",
       "    </tr>\n",
       "  </tbody>\n",
       "</table>\n",
       "</div>"
      ],
      "text/plain": [
       "   Polygon_id   May_SMI  June_SMI  July_SMI\n",
       "0           3  0.151657  0.065038  0.135063\n",
       "1           5  0.162878  0.065038  0.135063\n",
       "2          48  0.162878  0.040978  0.138233\n",
       "3          50  0.162878  0.040978  0.138233\n",
       "4          94  0.186076  0.112820  0.285952\n",
       "5          97  0.186076  0.112820  0.285952"
      ]
     },
     "execution_count": 15,
     "metadata": {},
     "output_type": "execute_result"
    }
   ],
   "source": [
    "df_SMI"
   ]
  },
  {
   "cell_type": "code",
   "execution_count": 16,
   "metadata": {},
   "outputs": [
    {
     "data": {
      "image/png": "[encoded data removed]",
      "text/plain": [
       "<Figure size 1088x544 with 1 Axes>"
      ]
     },
     "metadata": {
      "needs_background": "light"
     },
     "output_type": "display_data"
    }
   ],
   "source": [
    "from matplotlib import pyplot as plt\n",
    "import numpy as np\n",
    "fig = plt.figure(dpi= 136, figsize=(8,4))\n",
    "N = len(df_SMI['Polygon_id'])\n",
    "x = np.arange(N)\n",
    "\n",
    "\n",
    "plt.xticks(x, list(df_SMI['Polygon_id']))\n",
    "plt.plot(x,'May_SMI',  data=df_SMI, marker='o', markerfacecolor='red',  color='red', linewidth=0)\n",
    "plt.plot(x,'June_SMI',  data=df_SMI, marker='o', markerfacecolor='green',  color='green', linewidth=0)\n",
    "plt.plot(x, 'July_SMI',  data=df_SMI, marker='o', markerfacecolor='blue',  color='blue', linewidth=0)\n",
    "plt.legend()\n",
    "\n",
    "plt.xlabel('Polygons of Interest')\n",
    "plt.ylabel('SMI')\n",
    "plt.title('SMI Analysis')\n",
    "plt.xticks(rotation=90)\n",
    "#plt.savefig('C:/Users/Toshiba/Desktop/Master courses/Geoinformatics/Exercises/Exam files/cumulative_prec_Olpe_HSK')\n",
    "\n",
    "\n",
    "plt.show()"
   ]
  },
  {
   "cell_type": "markdown",
   "metadata": {},
   "source": [
    "## test analysis"
   ]
  },
  {
   "cell_type": "code",
   "execution_count": 17,
   "metadata": {},
   "outputs": [],
   "source": [
    "data_cor = [['May',5,0.773826,0.162878],['June',5,0.59776,0.0650379],['July',5,0.661778,0.135063],\n",
    "            ['May',48,0.866923,0.162878],['June',48,0.6865357,0.0409779],['July',48,0.764982,0.138233],\n",
    "            ['May',94,0.835853,0.186076],['June',94,0.7451488,0.11282],['July',94,0.729657,0.285952]]"
   ]
  },
  {
   "cell_type": "code",
   "execution_count": 18,
   "metadata": {},
   "outputs": [],
   "source": [
    "df_COR =pd.DataFrame(data_cor, columns=[\"Month\",\"Polygon_id\",'NDVI','SMI'])"
   ]
  },
  {
   "cell_type": "code",
   "execution_count": 23,
   "metadata": {},
   "outputs": [
    {
     "data": {
      "text/html": [
       "<div>\n",
       "<style scoped>\n",
       "    .dataframe tbody tr th:only-of-type {\n",
       "        vertical-align: middle;\n",
       "    }\n",
       "\n",
       "    .dataframe tbody tr th {\n",
       "        vertical-align: top;\n",
       "    }\n",
       "\n",
       "    .dataframe thead th {\n",
       "        text-align: right;\n",
       "    }\n",
       "</style>\n",
       "<table border=\"1\" class=\"dataframe\">\n",
       "  <thead>\n",
       "    <tr style=\"text-align: right;\">\n",
       "      <th></th>\n",
       "      <th>Month</th>\n",
       "      <th>Polygon_id</th>\n",
       "      <th>NDVI</th>\n",
       "      <th>SMI</th>\n",
       "    </tr>\n",
       "  </thead>\n",
       "  <tbody>\n",
       "    <tr>\n",
       "      <th>0</th>\n",
       "      <td>May</td>\n",
       "      <td>5</td>\n",
       "      <td>0.773826</td>\n",
       "      <td>0.162878</td>\n",
       "    </tr>\n",
       "    <tr>\n",
       "      <th>1</th>\n",
       "      <td>June</td>\n",
       "      <td>5</td>\n",
       "      <td>0.597760</td>\n",
       "      <td>0.065038</td>\n",
       "    </tr>\n",
       "    <tr>\n",
       "      <th>2</th>\n",
       "      <td>July</td>\n",
       "      <td>5</td>\n",
       "      <td>0.661778</td>\n",
       "      <td>0.135063</td>\n",
       "    </tr>\n",
       "    <tr>\n",
       "      <th>3</th>\n",
       "      <td>May</td>\n",
       "      <td>48</td>\n",
       "      <td>0.866923</td>\n",
       "      <td>0.162878</td>\n",
       "    </tr>\n",
       "    <tr>\n",
       "      <th>4</th>\n",
       "      <td>June</td>\n",
       "      <td>48</td>\n",
       "      <td>0.686536</td>\n",
       "      <td>0.040978</td>\n",
       "    </tr>\n",
       "    <tr>\n",
       "      <th>5</th>\n",
       "      <td>July</td>\n",
       "      <td>48</td>\n",
       "      <td>0.764982</td>\n",
       "      <td>0.138233</td>\n",
       "    </tr>\n",
       "    <tr>\n",
       "      <th>6</th>\n",
       "      <td>May</td>\n",
       "      <td>94</td>\n",
       "      <td>0.835853</td>\n",
       "      <td>0.186076</td>\n",
       "    </tr>\n",
       "    <tr>\n",
       "      <th>7</th>\n",
       "      <td>June</td>\n",
       "      <td>94</td>\n",
       "      <td>0.745149</td>\n",
       "      <td>0.112820</td>\n",
       "    </tr>\n",
       "    <tr>\n",
       "      <th>8</th>\n",
       "      <td>July</td>\n",
       "      <td>94</td>\n",
       "      <td>0.729657</td>\n",
       "      <td>0.285952</td>\n",
       "    </tr>\n",
       "  </tbody>\n",
       "</table>\n",
       "</div>"
      ],
      "text/plain": [
       "  Month  Polygon_id      NDVI       SMI\n",
       "0   May           5  0.773826  0.162878\n",
       "1  June           5  0.597760  0.065038\n",
       "2  July           5  0.661778  0.135063\n",
       "3   May          48  0.866923  0.162878\n",
       "4  June          48  0.686536  0.040978\n",
       "5  July          48  0.764982  0.138233\n",
       "6   May          94  0.835853  0.186076\n",
       "7  June          94  0.745149  0.112820\n",
       "8  July          94  0.729657  0.285952"
      ]
     },
     "execution_count": 23,
     "metadata": {},
     "output_type": "execute_result"
    }
   ],
   "source": [
    "df_COR"
   ]
  },
  {
   "cell_type": "code",
   "execution_count": 24,
   "metadata": {},
   "outputs": [
    {
     "name": "stdout",
     "output_type": "stream",
     "text": [
      "ndvi_smi saved to: ndvi_smi.csv\n"
     ]
    }
   ],
   "source": [
    "filename = \"ndvi_smi.csv\"\n",
    "print(\"ndvi_smi saved to: %s\" % (filename))\n",
    "df_COR.to_csv(filename,sep=\";\")"
   ]
  },
  {
   "cell_type": "code",
   "execution_count": 20,
   "metadata": {},
   "outputs": [
    {
     "data": {
      "image/png": "[encoded data removed]",
      "text/plain": [
       "<Figure size 1088x544 with 1 Axes>"
      ]
     },
     "metadata": {
      "needs_background": "light"
     },
     "output_type": "display_data"
    }
   ],
   "source": [
    "from matplotlib import pyplot as plt\n",
    "import numpy as np\n",
    "fig = plt.figure(dpi= 136, figsize=(8,4))\n",
    "#N = len(df_SMI['Polygon_id'])\n",
    "#x = np.arange(N)\n",
    "\n",
    "\n",
    "#plt.xticks(x, list(df_SMI['Polygon_id']))\n",
    "plt.plot(\"SMI\",'NDVI',  data=df_COR[df_COR['Month']=='May'], marker='o', markerfacecolor='red',  color='red', linewidth=0,label ='May')\n",
    "plt.plot('SMI','NDVI',  data=df_COR[df_COR['Month']=='June'], marker='o', markerfacecolor='green',  color='green', linewidth=0,label='June')\n",
    "plt.plot('SMI', 'NDVI',  data=df_COR[df_COR['Month']=='July'], marker='o', markerfacecolor='blue',  color='blue', linewidth=0,label='July')\n",
    "plt.legend()\n",
    "\n",
    "plt.xlabel('SMI')\n",
    "plt.ylabel('NDVI')\n",
    "plt.title('NDVI Analysis')\n",
    "plt.xticks(rotation=90)\n",
    "#plt.savefig('C:/Users/Toshiba/Desktop/Master courses/Geoinformatics/Exercises/Exam files/cumulative_prec_Olpe_HSK')\n",
    "\n",
    "\n",
    "plt.show()"
   ]
  },
  {
   "cell_type": "code",
   "execution_count": 21,
   "metadata": {},
   "outputs": [],
   "source": [
    "import scipy.stats\n",
    "x = df_COR['SMI']\n",
    "y = df_COR['NDVI']\n",
    "r, p = scipy.stats.pearsonr(x, y)"
   ]
  },
  {
   "cell_type": "code",
   "execution_count": 22,
   "metadata": {},
   "outputs": [
    {
     "data": {
      "text/plain": [
       "0.47529516761831936"
      ]
     },
     "execution_count": 22,
     "metadata": {},
     "output_type": "execute_result"
    }
   ],
   "source": [
    "r"
   ]
  },
  {
   "cell_type": "code",
   "execution_count": null,
   "metadata": {},
   "outputs": [],
   "source": []
  },
  {
   "cell_type": "code",
   "execution_count": null,
   "metadata": {},
   "outputs": [],
   "source": []
  },
  {
   "cell_type": "code",
   "execution_count": null,
   "metadata": {},
   "outputs": [],
   "source": []
  },
  {
   "cell_type": "code",
   "execution_count": null,
   "metadata": {},
   "outputs": [],
   "source": []
  },
  {
   "cell_type": "code",
   "execution_count": null,
   "metadata": {},
   "outputs": [],
   "source": []
  },
  {
   "cell_type": "code",
   "execution_count": null,
   "metadata": {},
   "outputs": [],
   "source": []
  },
  {
   "cell_type": "code",
   "execution_count": null,
   "metadata": {},
   "outputs": [],
   "source": []
  },
  {
   "cell_type": "code",
   "execution_count": null,
   "metadata": {},
   "outputs": [],
   "source": []
  },
  {
   "cell_type": "code",
   "execution_count": null,
   "metadata": {},
   "outputs": [],
   "source": []
  },
  {
   "cell_type": "code",
   "execution_count": null,
   "metadata": {},
   "outputs": [],
   "source": []
  }
 ],
 "metadata": {
  "kernelspec": {
   "display_name": "Python 3",
   "language": "python",
   "name": "python3"
  },
  "language_info": {
   "codemirror_mode": {
    "name": "ipython",
    "version": 3
   },
   "file_extension": ".py",
   "mimetype": "text/x-python",
   "name": "python",
   "nbconvert_exporter": "python",
   "pygments_lexer": "ipython3",
   "version": "3.8.3"
  }
 },
 "nbformat": 4,
 "nbformat_minor": 4
}
