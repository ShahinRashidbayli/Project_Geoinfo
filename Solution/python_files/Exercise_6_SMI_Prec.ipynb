{
 "cells": [
  {
   "cell_type": "code",
   "execution_count": 106,
   "metadata": {},
   "outputs": [],
   "source": [
    "import pandas as pd\n",
    "import numpy as np\n",
    "from matplotlib import pyplot as plt"
   ]
  },
  {
   "cell_type": "code",
   "execution_count": 107,
   "metadata": {},
   "outputs": [],
   "source": [
    "data = pd.read_csv('C:/Users/Toshiba/Documents/GitHub/MIE_2.02_GeoInfo_WS2020/data/generated/DWD/hourly/precipitation/historical/prec_ts_appended_4.csv',sep=\";\")"
   ]
  },
  {
   "cell_type": "code",
   "execution_count": 108,
   "metadata": {},
   "outputs": [],
   "source": [
    "import datetime as dt\n",
    "data['day1'] = pd.to_datetime(data['mess_datum'])\n",
    "day = data['day1'].dt.date"
   ]
  },
  {
   "cell_type": "code",
   "execution_count": 109,
   "metadata": {},
   "outputs": [
    {
     "data": {
      "text/html": [
       "<div>\n",
       "<style scoped>\n",
       "    .dataframe tbody tr th:only-of-type {\n",
       "        vertical-align: middle;\n",
       "    }\n",
       "\n",
       "    .dataframe tbody tr th {\n",
       "        vertical-align: top;\n",
       "    }\n",
       "\n",
       "    .dataframe thead th {\n",
       "        text-align: right;\n",
       "    }\n",
       "</style>\n",
       "<table border=\"1\" class=\"dataframe\">\n",
       "  <thead>\n",
       "    <tr style=\"text-align: right;\">\n",
       "      <th></th>\n",
       "      <th>mess_datum</th>\n",
       "      <th>station_id</th>\n",
       "      <th>r1</th>\n",
       "      <th>longitude</th>\n",
       "      <th>latitude</th>\n",
       "      <th>day1</th>\n",
       "    </tr>\n",
       "  </thead>\n",
       "  <tbody>\n",
       "    <tr>\n",
       "      <th>244838</th>\n",
       "      <td>2017-08-16 20:00:00</td>\n",
       "      <td>15000</td>\n",
       "      <td>0.0</td>\n",
       "      <td>6.0244</td>\n",
       "      <td>50.7983</td>\n",
       "      <td>2017-08-16 20:00:00</td>\n",
       "    </tr>\n",
       "    <tr>\n",
       "      <th>244839</th>\n",
       "      <td>2017-08-16 21:00:00</td>\n",
       "      <td>15000</td>\n",
       "      <td>0.0</td>\n",
       "      <td>6.0244</td>\n",
       "      <td>50.7983</td>\n",
       "      <td>2017-08-16 21:00:00</td>\n",
       "    </tr>\n",
       "    <tr>\n",
       "      <th>244840</th>\n",
       "      <td>2017-08-16 22:00:00</td>\n",
       "      <td>15000</td>\n",
       "      <td>0.0</td>\n",
       "      <td>6.0244</td>\n",
       "      <td>50.7983</td>\n",
       "      <td>2017-08-16 22:00:00</td>\n",
       "    </tr>\n",
       "    <tr>\n",
       "      <th>244841</th>\n",
       "      <td>2017-08-16 23:00:00</td>\n",
       "      <td>15000</td>\n",
       "      <td>0.0</td>\n",
       "      <td>6.0244</td>\n",
       "      <td>50.7983</td>\n",
       "      <td>2017-08-16 23:00:00</td>\n",
       "    </tr>\n",
       "    <tr>\n",
       "      <th>244842</th>\n",
       "      <td>2017-08-17 00:00:00</td>\n",
       "      <td>15000</td>\n",
       "      <td>0.0</td>\n",
       "      <td>6.0244</td>\n",
       "      <td>50.7983</td>\n",
       "      <td>2017-08-17 00:00:00</td>\n",
       "    </tr>\n",
       "  </tbody>\n",
       "</table>\n",
       "</div>"
      ],
      "text/plain": [
       "                 mess_datum  station_id   r1  longitude  latitude  \\\n",
       "244838  2017-08-16 20:00:00       15000  0.0     6.0244   50.7983   \n",
       "244839  2017-08-16 21:00:00       15000  0.0     6.0244   50.7983   \n",
       "244840  2017-08-16 22:00:00       15000  0.0     6.0244   50.7983   \n",
       "244841  2017-08-16 23:00:00       15000  0.0     6.0244   50.7983   \n",
       "244842  2017-08-17 00:00:00       15000  0.0     6.0244   50.7983   \n",
       "\n",
       "                      day1  \n",
       "244838 2017-08-16 20:00:00  \n",
       "244839 2017-08-16 21:00:00  \n",
       "244840 2017-08-16 22:00:00  \n",
       "244841 2017-08-16 23:00:00  \n",
       "244842 2017-08-17 00:00:00  "
      ]
     },
     "execution_count": 109,
     "metadata": {},
     "output_type": "execute_result"
    }
   ],
   "source": [
    "data.tail()"
   ]
  },
  {
   "cell_type": "code",
   "execution_count": 110,
   "metadata": {},
   "outputs": [],
   "source": [
    "data['mess_datum']=pd.to_datetime(data.mess_datum, format='%Y/%m/%d %H:%M:%S')"
   ]
  },
  {
   "cell_type": "code",
   "execution_count": 111,
   "metadata": {},
   "outputs": [],
   "source": [
    "data.insert(loc=6, column='day', value=(data.mess_datum.dt.date))"
   ]
  },
  {
   "cell_type": "code",
   "execution_count": 112,
   "metadata": {},
   "outputs": [],
   "source": [
    "del data['day1']"
   ]
  },
  {
   "cell_type": "code",
   "execution_count": 113,
   "metadata": {},
   "outputs": [
    {
     "data": {
      "text/html": [
       "<div>\n",
       "<style scoped>\n",
       "    .dataframe tbody tr th:only-of-type {\n",
       "        vertical-align: middle;\n",
       "    }\n",
       "\n",
       "    .dataframe tbody tr th {\n",
       "        vertical-align: top;\n",
       "    }\n",
       "\n",
       "    .dataframe thead th {\n",
       "        text-align: right;\n",
       "    }\n",
       "</style>\n",
       "<table border=\"1\" class=\"dataframe\">\n",
       "  <thead>\n",
       "    <tr style=\"text-align: right;\">\n",
       "      <th></th>\n",
       "      <th>mess_datum</th>\n",
       "      <th>station_id</th>\n",
       "      <th>r1</th>\n",
       "      <th>longitude</th>\n",
       "      <th>latitude</th>\n",
       "      <th>day</th>\n",
       "    </tr>\n",
       "  </thead>\n",
       "  <tbody>\n",
       "    <tr>\n",
       "      <th>244838</th>\n",
       "      <td>2017-08-16 20:00:00</td>\n",
       "      <td>15000</td>\n",
       "      <td>0.0</td>\n",
       "      <td>6.0244</td>\n",
       "      <td>50.7983</td>\n",
       "      <td>2017-08-16</td>\n",
       "    </tr>\n",
       "    <tr>\n",
       "      <th>244839</th>\n",
       "      <td>2017-08-16 21:00:00</td>\n",
       "      <td>15000</td>\n",
       "      <td>0.0</td>\n",
       "      <td>6.0244</td>\n",
       "      <td>50.7983</td>\n",
       "      <td>2017-08-16</td>\n",
       "    </tr>\n",
       "    <tr>\n",
       "      <th>244840</th>\n",
       "      <td>2017-08-16 22:00:00</td>\n",
       "      <td>15000</td>\n",
       "      <td>0.0</td>\n",
       "      <td>6.0244</td>\n",
       "      <td>50.7983</td>\n",
       "      <td>2017-08-16</td>\n",
       "    </tr>\n",
       "    <tr>\n",
       "      <th>244841</th>\n",
       "      <td>2017-08-16 23:00:00</td>\n",
       "      <td>15000</td>\n",
       "      <td>0.0</td>\n",
       "      <td>6.0244</td>\n",
       "      <td>50.7983</td>\n",
       "      <td>2017-08-16</td>\n",
       "    </tr>\n",
       "    <tr>\n",
       "      <th>244842</th>\n",
       "      <td>2017-08-17 00:00:00</td>\n",
       "      <td>15000</td>\n",
       "      <td>0.0</td>\n",
       "      <td>6.0244</td>\n",
       "      <td>50.7983</td>\n",
       "      <td>2017-08-17</td>\n",
       "    </tr>\n",
       "  </tbody>\n",
       "</table>\n",
       "</div>"
      ],
      "text/plain": [
       "                mess_datum  station_id   r1  longitude  latitude         day\n",
       "244838 2017-08-16 20:00:00       15000  0.0     6.0244   50.7983  2017-08-16\n",
       "244839 2017-08-16 21:00:00       15000  0.0     6.0244   50.7983  2017-08-16\n",
       "244840 2017-08-16 22:00:00       15000  0.0     6.0244   50.7983  2017-08-16\n",
       "244841 2017-08-16 23:00:00       15000  0.0     6.0244   50.7983  2017-08-16\n",
       "244842 2017-08-17 00:00:00       15000  0.0     6.0244   50.7983  2017-08-17"
      ]
     },
     "execution_count": 113,
     "metadata": {},
     "output_type": "execute_result"
    }
   ],
   "source": [
    "data.tail()"
   ]
  },
  {
   "cell_type": "code",
   "execution_count": 114,
   "metadata": {},
   "outputs": [],
   "source": [
    "data = data.groupby(['day','station_id'])['r1'].sum().to_frame(name = 'daily_prep').reset_index()"
   ]
  },
  {
   "cell_type": "code",
   "execution_count": 115,
   "metadata": {},
   "outputs": [
    {
     "data": {
      "text/html": [
       "<div>\n",
       "<style scoped>\n",
       "    .dataframe tbody tr th:only-of-type {\n",
       "        vertical-align: middle;\n",
       "    }\n",
       "\n",
       "    .dataframe tbody tr th {\n",
       "        vertical-align: top;\n",
       "    }\n",
       "\n",
       "    .dataframe thead th {\n",
       "        text-align: right;\n",
       "    }\n",
       "</style>\n",
       "<table border=\"1\" class=\"dataframe\">\n",
       "  <thead>\n",
       "    <tr style=\"text-align: right;\">\n",
       "      <th></th>\n",
       "      <th>day</th>\n",
       "      <th>station_id</th>\n",
       "      <th>daily_prep</th>\n",
       "    </tr>\n",
       "  </thead>\n",
       "  <tbody>\n",
       "    <tr>\n",
       "      <th>0</th>\n",
       "      <td>2017-04-16</td>\n",
       "      <td>216</td>\n",
       "      <td>4.3</td>\n",
       "    </tr>\n",
       "    <tr>\n",
       "      <th>1</th>\n",
       "      <td>2017-04-16</td>\n",
       "      <td>389</td>\n",
       "      <td>5.0</td>\n",
       "    </tr>\n",
       "    <tr>\n",
       "      <th>2</th>\n",
       "      <td>2017-04-16</td>\n",
       "      <td>390</td>\n",
       "      <td>2.2</td>\n",
       "    </tr>\n",
       "    <tr>\n",
       "      <th>3</th>\n",
       "      <td>2017-04-16</td>\n",
       "      <td>554</td>\n",
       "      <td>1.7</td>\n",
       "    </tr>\n",
       "    <tr>\n",
       "      <th>4</th>\n",
       "      <td>2017-04-16</td>\n",
       "      <td>603</td>\n",
       "      <td>3.6</td>\n",
       "    </tr>\n",
       "  </tbody>\n",
       "</table>\n",
       "</div>"
      ],
      "text/plain": [
       "          day  station_id  daily_prep\n",
       "0  2017-04-16         216         4.3\n",
       "1  2017-04-16         389         5.0\n",
       "2  2017-04-16         390         2.2\n",
       "3  2017-04-16         554         1.7\n",
       "4  2017-04-16         603         3.6"
      ]
     },
     "execution_count": 115,
     "metadata": {},
     "output_type": "execute_result"
    }
   ],
   "source": [
    "data.head()"
   ]
  },
  {
   "cell_type": "code",
   "execution_count": 116,
   "metadata": {},
   "outputs": [
    {
     "data": {
      "text/plain": [
       "pandas.core.series.Series"
      ]
     },
     "execution_count": 116,
     "metadata": {},
     "output_type": "execute_result"
    }
   ],
   "source": [
    "data['station_id'] = data['station_id'].astype(int)\n",
    "type(data['station_id'])"
   ]
  },
  {
   "cell_type": "code",
   "execution_count": 117,
   "metadata": {},
   "outputs": [],
   "source": [
    "Olpe = data[data['station_id'].isin([216,2947,5468])]#216, 2947,5468"
   ]
  },
  {
   "cell_type": "code",
   "execution_count": 118,
   "metadata": {},
   "outputs": [
    {
     "data": {
      "text/html": [
       "<div>\n",
       "<style scoped>\n",
       "    .dataframe tbody tr th:only-of-type {\n",
       "        vertical-align: middle;\n",
       "    }\n",
       "\n",
       "    .dataframe tbody tr th {\n",
       "        vertical-align: top;\n",
       "    }\n",
       "\n",
       "    .dataframe thead th {\n",
       "        text-align: right;\n",
       "    }\n",
       "</style>\n",
       "<table border=\"1\" class=\"dataframe\">\n",
       "  <thead>\n",
       "    <tr style=\"text-align: right;\">\n",
       "      <th></th>\n",
       "      <th>day</th>\n",
       "      <th>station_id</th>\n",
       "      <th>daily_prep</th>\n",
       "    </tr>\n",
       "  </thead>\n",
       "  <tbody>\n",
       "    <tr>\n",
       "      <th>0</th>\n",
       "      <td>2017-04-16</td>\n",
       "      <td>216</td>\n",
       "      <td>4.3</td>\n",
       "    </tr>\n",
       "    <tr>\n",
       "      <th>33</th>\n",
       "      <td>2017-04-16</td>\n",
       "      <td>2947</td>\n",
       "      <td>4.7</td>\n",
       "    </tr>\n",
       "    <tr>\n",
       "      <th>83</th>\n",
       "      <td>2017-04-17</td>\n",
       "      <td>216</td>\n",
       "      <td>14.6</td>\n",
       "    </tr>\n",
       "    <tr>\n",
       "      <th>116</th>\n",
       "      <td>2017-04-17</td>\n",
       "      <td>2947</td>\n",
       "      <td>12.0</td>\n",
       "    </tr>\n",
       "    <tr>\n",
       "      <th>166</th>\n",
       "      <td>2017-04-18</td>\n",
       "      <td>216</td>\n",
       "      <td>2.6</td>\n",
       "    </tr>\n",
       "  </tbody>\n",
       "</table>\n",
       "</div>"
      ],
      "text/plain": [
       "            day  station_id  daily_prep\n",
       "0    2017-04-16         216         4.3\n",
       "33   2017-04-16        2947         4.7\n",
       "83   2017-04-17         216        14.6\n",
       "116  2017-04-17        2947        12.0\n",
       "166  2017-04-18         216         2.6"
      ]
     },
     "execution_count": 118,
     "metadata": {},
     "output_type": "execute_result"
    }
   ],
   "source": [
    "Olpe.head()"
   ]
  },
  {
   "cell_type": "code",
   "execution_count": 119,
   "metadata": {},
   "outputs": [],
   "source": [
    "Olpe = Olpe.groupby(['day'])['daily_prep'].mean().to_frame(name = 'avg_daily_prep').reset_index()"
   ]
  },
  {
   "cell_type": "code",
   "execution_count": 120,
   "metadata": {},
   "outputs": [
    {
     "data": {
      "text/html": [
       "<div>\n",
       "<style scoped>\n",
       "    .dataframe tbody tr th:only-of-type {\n",
       "        vertical-align: middle;\n",
       "    }\n",
       "\n",
       "    .dataframe tbody tr th {\n",
       "        vertical-align: top;\n",
       "    }\n",
       "\n",
       "    .dataframe thead th {\n",
       "        text-align: right;\n",
       "    }\n",
       "</style>\n",
       "<table border=\"1\" class=\"dataframe\">\n",
       "  <thead>\n",
       "    <tr style=\"text-align: right;\">\n",
       "      <th></th>\n",
       "      <th>day</th>\n",
       "      <th>avg_daily_prep</th>\n",
       "    </tr>\n",
       "  </thead>\n",
       "  <tbody>\n",
       "    <tr>\n",
       "      <th>0</th>\n",
       "      <td>2017-04-16</td>\n",
       "      <td>4.50</td>\n",
       "    </tr>\n",
       "    <tr>\n",
       "      <th>1</th>\n",
       "      <td>2017-04-17</td>\n",
       "      <td>13.30</td>\n",
       "    </tr>\n",
       "    <tr>\n",
       "      <th>2</th>\n",
       "      <td>2017-04-18</td>\n",
       "      <td>3.35</td>\n",
       "    </tr>\n",
       "    <tr>\n",
       "      <th>3</th>\n",
       "      <td>2017-04-19</td>\n",
       "      <td>0.00</td>\n",
       "    </tr>\n",
       "    <tr>\n",
       "      <th>4</th>\n",
       "      <td>2017-04-20</td>\n",
       "      <td>0.00</td>\n",
       "    </tr>\n",
       "    <tr>\n",
       "      <th>...</th>\n",
       "      <td>...</td>\n",
       "      <td>...</td>\n",
       "    </tr>\n",
       "    <tr>\n",
       "      <th>119</th>\n",
       "      <td>2017-08-13</td>\n",
       "      <td>4.05</td>\n",
       "    </tr>\n",
       "    <tr>\n",
       "      <th>120</th>\n",
       "      <td>2017-08-14</td>\n",
       "      <td>0.00</td>\n",
       "    </tr>\n",
       "    <tr>\n",
       "      <th>121</th>\n",
       "      <td>2017-08-15</td>\n",
       "      <td>0.85</td>\n",
       "    </tr>\n",
       "    <tr>\n",
       "      <th>122</th>\n",
       "      <td>2017-08-16</td>\n",
       "      <td>9.40</td>\n",
       "    </tr>\n",
       "    <tr>\n",
       "      <th>123</th>\n",
       "      <td>2017-08-17</td>\n",
       "      <td>0.00</td>\n",
       "    </tr>\n",
       "  </tbody>\n",
       "</table>\n",
       "<p>124 rows × 2 columns</p>\n",
       "</div>"
      ],
      "text/plain": [
       "            day  avg_daily_prep\n",
       "0    2017-04-16            4.50\n",
       "1    2017-04-17           13.30\n",
       "2    2017-04-18            3.35\n",
       "3    2017-04-19            0.00\n",
       "4    2017-04-20            0.00\n",
       "..          ...             ...\n",
       "119  2017-08-13            4.05\n",
       "120  2017-08-14            0.00\n",
       "121  2017-08-15            0.85\n",
       "122  2017-08-16            9.40\n",
       "123  2017-08-17            0.00\n",
       "\n",
       "[124 rows x 2 columns]"
      ]
     },
     "execution_count": 120,
     "metadata": {},
     "output_type": "execute_result"
    }
   ],
   "source": [
    "Olpe"
   ]
  },
  {
   "cell_type": "code",
   "execution_count": 121,
   "metadata": {},
   "outputs": [],
   "source": [
    "Olpe.set_index(\"day\", inplace = True)"
   ]
  },
  {
   "cell_type": "code",
   "execution_count": 122,
   "metadata": {},
   "outputs": [
    {
     "data": {
      "text/plain": [
       "datetime.date"
      ]
     },
     "execution_count": 122,
     "metadata": {},
     "output_type": "execute_result"
    }
   ],
   "source": [
    "type(Olpe.index[0])"
   ]
  },
  {
   "cell_type": "code",
   "execution_count": 123,
   "metadata": {},
   "outputs": [],
   "source": [
    "from datetime import datetime\n",
    "startdate1 = pd.to_datetime(\"2017-04-17\").date()\n",
    "enddate1= pd.to_datetime(\"2017-05-16\").date()\n",
    "Olpe_May = Olpe.loc[startdate1:enddate1]"
   ]
  },
  {
   "cell_type": "code",
   "execution_count": 124,
   "metadata": {},
   "outputs": [],
   "source": [
    "startdate2 = pd.to_datetime(\"2017-05-17\").date()\n",
    "enddate2 = pd.to_datetime(\"2017-06-16\").date()\n",
    "Olpe_June = Olpe.loc[startdate2:enddate2]"
   ]
  },
  {
   "cell_type": "code",
   "execution_count": 125,
   "metadata": {},
   "outputs": [],
   "source": [
    "startdate3 = pd.to_datetime(\"2017-06-17\").date()\n",
    "enddate3 = pd.to_datetime(\"2017-07-16\").date()\n",
    "Olpe_July = Olpe.loc[startdate3:enddate3]"
   ]
  },
  {
   "cell_type": "code",
   "execution_count": 126,
   "metadata": {},
   "outputs": [],
   "source": [
    "startdate4 = pd.to_datetime(\"2017-07-17\").date()\n",
    "enddate4 = pd.to_datetime(\"2017-08-16\").date()\n",
    "Olpe_August = Olpe.loc[startdate4:enddate4]"
   ]
  },
  {
   "cell_type": "code",
   "execution_count": 127,
   "metadata": {},
   "outputs": [
    {
     "data": {
      "text/html": [
       "<div>\n",
       "<style scoped>\n",
       "    .dataframe tbody tr th:only-of-type {\n",
       "        vertical-align: middle;\n",
       "    }\n",
       "\n",
       "    .dataframe tbody tr th {\n",
       "        vertical-align: top;\n",
       "    }\n",
       "\n",
       "    .dataframe thead th {\n",
       "        text-align: right;\n",
       "    }\n",
       "</style>\n",
       "<table border=\"1\" class=\"dataframe\">\n",
       "  <thead>\n",
       "    <tr style=\"text-align: right;\">\n",
       "      <th></th>\n",
       "      <th>avg_daily_prep</th>\n",
       "    </tr>\n",
       "    <tr>\n",
       "      <th>day</th>\n",
       "      <th></th>\n",
       "    </tr>\n",
       "  </thead>\n",
       "  <tbody>\n",
       "    <tr>\n",
       "      <th>2017-05-12</th>\n",
       "      <td>3.05</td>\n",
       "    </tr>\n",
       "    <tr>\n",
       "      <th>2017-05-13</th>\n",
       "      <td>0.30</td>\n",
       "    </tr>\n",
       "    <tr>\n",
       "      <th>2017-05-14</th>\n",
       "      <td>0.05</td>\n",
       "    </tr>\n",
       "    <tr>\n",
       "      <th>2017-05-15</th>\n",
       "      <td>0.05</td>\n",
       "    </tr>\n",
       "    <tr>\n",
       "      <th>2017-05-16</th>\n",
       "      <td>0.00</td>\n",
       "    </tr>\n",
       "  </tbody>\n",
       "</table>\n",
       "</div>"
      ],
      "text/plain": [
       "            avg_daily_prep\n",
       "day                       \n",
       "2017-05-12            3.05\n",
       "2017-05-13            0.30\n",
       "2017-05-14            0.05\n",
       "2017-05-15            0.05\n",
       "2017-05-16            0.00"
      ]
     },
     "execution_count": 127,
     "metadata": {},
     "output_type": "execute_result"
    }
   ],
   "source": [
    "Olpe_May.tail()"
   ]
  },
  {
   "cell_type": "code",
   "execution_count": 128,
   "metadata": {},
   "outputs": [],
   "source": [
    "Olpe_May.insert(loc=1, column='cumulative_prec', value=(np.cumsum(Olpe_May['avg_daily_prep'])))\n",
    "Olpe_June.insert(loc=1, column='cumulative_prec', value=(np.cumsum(Olpe_June['avg_daily_prep'])))\n",
    "Olpe_July.insert(loc=1, column='cumulative_prec', value=(np.cumsum(Olpe_July['avg_daily_prep'])))\n",
    "Olpe_August.insert(loc=1, column='cumulative_prec', value=(np.cumsum(Olpe_August['avg_daily_prep'])))"
   ]
  },
  {
   "cell_type": "code",
   "execution_count": 143,
   "metadata": {},
   "outputs": [
    {
     "data": {
      "text/html": [
       "<div>\n",
       "<style scoped>\n",
       "    .dataframe tbody tr th:only-of-type {\n",
       "        vertical-align: middle;\n",
       "    }\n",
       "\n",
       "    .dataframe tbody tr th {\n",
       "        vertical-align: top;\n",
       "    }\n",
       "\n",
       "    .dataframe thead th {\n",
       "        text-align: right;\n",
       "    }\n",
       "</style>\n",
       "<table border=\"1\" class=\"dataframe\">\n",
       "  <thead>\n",
       "    <tr style=\"text-align: right;\">\n",
       "      <th></th>\n",
       "      <th>avg_daily_prep</th>\n",
       "      <th>Olpe</th>\n",
       "    </tr>\n",
       "    <tr>\n",
       "      <th>day</th>\n",
       "      <th></th>\n",
       "      <th></th>\n",
       "    </tr>\n",
       "  </thead>\n",
       "  <tbody>\n",
       "    <tr>\n",
       "      <th>2017-08-12</th>\n",
       "      <td>6.30</td>\n",
       "      <td>152.15</td>\n",
       "    </tr>\n",
       "    <tr>\n",
       "      <th>2017-08-13</th>\n",
       "      <td>4.05</td>\n",
       "      <td>156.20</td>\n",
       "    </tr>\n",
       "    <tr>\n",
       "      <th>2017-08-14</th>\n",
       "      <td>0.00</td>\n",
       "      <td>156.20</td>\n",
       "    </tr>\n",
       "    <tr>\n",
       "      <th>2017-08-15</th>\n",
       "      <td>0.85</td>\n",
       "      <td>157.05</td>\n",
       "    </tr>\n",
       "    <tr>\n",
       "      <th>2017-08-16</th>\n",
       "      <td>9.40</td>\n",
       "      <td>166.45</td>\n",
       "    </tr>\n",
       "  </tbody>\n",
       "</table>\n",
       "</div>"
      ],
      "text/plain": [
       "            avg_daily_prep    Olpe\n",
       "day                               \n",
       "2017-08-12            6.30  152.15\n",
       "2017-08-13            4.05  156.20\n",
       "2017-08-14            0.00  156.20\n",
       "2017-08-15            0.85  157.05\n",
       "2017-08-16            9.40  166.45"
      ]
     },
     "execution_count": 143,
     "metadata": {},
     "output_type": "execute_result"
    }
   ],
   "source": [
    "#Olpe_May.tail()\n",
    "#Olpe_June.tail()\n",
    "#Olpe_July.tail()\n",
    "Olpe_August.tail()"
   ]
  },
  {
   "cell_type": "code",
   "execution_count": null,
   "metadata": {},
   "outputs": [],
   "source": []
  }
 ],
 "metadata": {
  "kernelspec": {
   "display_name": "Python 3",
   "language": "python",
   "name": "python3"
  },
  "language_info": {
   "codemirror_mode": {
    "name": "ipython",
    "version": 3
   },
   "file_extension": ".py",
   "mimetype": "text/x-python",
   "name": "python",
   "nbconvert_exporter": "python",
   "pygments_lexer": "ipython3",
   "version": "3.8.3"
  }
 },
 "nbformat": 4,
 "nbformat_minor": 4
}
