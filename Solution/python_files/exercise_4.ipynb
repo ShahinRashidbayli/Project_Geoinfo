{
 "cells": [
  {
   "cell_type": "markdown",
   "metadata": {},
   "source": [
    "# Cumulative Precipitation Time Series"
   ]
  },
  {
   "cell_type": "markdown",
   "metadata": {},
   "source": [
    "#### Aggregate hourly precipitation rate to achieve daily precipitation rate (2017-04-16 to 2017-08-17)"
   ]
  },
  {
   "cell_type": "code",
   "execution_count": 1,
   "metadata": {},
   "outputs": [],
   "source": [
    "import pandas as pd\n",
    "import numpy as np\n",
    "from matplotlib import pyplot as plt"
   ]
  },
  {
   "cell_type": "code",
   "execution_count": 2,
   "metadata": {},
   "outputs": [],
   "source": [
    "data = pd.read_csv('C:/Users/Toshiba/Documents/GitHub/MIE_2.02_GeoInfo_WS2020/data/generated/DWD/hourly/precipitation/historical/prec_ts_appended_4.csv',sep=\";\")"
   ]
  },
  {
   "cell_type": "code",
   "execution_count": 3,
   "metadata": {},
   "outputs": [
    {
     "data": {
      "text/html": [
       "<div>\n",
       "<style scoped>\n",
       "    .dataframe tbody tr th:only-of-type {\n",
       "        vertical-align: middle;\n",
       "    }\n",
       "\n",
       "    .dataframe tbody tr th {\n",
       "        vertical-align: top;\n",
       "    }\n",
       "\n",
       "    .dataframe thead th {\n",
       "        text-align: right;\n",
       "    }\n",
       "</style>\n",
       "<table border=\"1\" class=\"dataframe\">\n",
       "  <thead>\n",
       "    <tr style=\"text-align: right;\">\n",
       "      <th></th>\n",
       "      <th>mess_datum</th>\n",
       "      <th>station_id</th>\n",
       "      <th>r1</th>\n",
       "      <th>longitude</th>\n",
       "      <th>latitude</th>\n",
       "    </tr>\n",
       "  </thead>\n",
       "  <tbody>\n",
       "    <tr>\n",
       "      <th>244833</th>\n",
       "      <td>2017-08-16 15:00:00</td>\n",
       "      <td>15000</td>\n",
       "      <td>0.0</td>\n",
       "      <td>6.0244</td>\n",
       "      <td>50.7983</td>\n",
       "    </tr>\n",
       "    <tr>\n",
       "      <th>244834</th>\n",
       "      <td>2017-08-16 16:00:00</td>\n",
       "      <td>15000</td>\n",
       "      <td>0.0</td>\n",
       "      <td>6.0244</td>\n",
       "      <td>50.7983</td>\n",
       "    </tr>\n",
       "    <tr>\n",
       "      <th>244835</th>\n",
       "      <td>2017-08-16 17:00:00</td>\n",
       "      <td>15000</td>\n",
       "      <td>0.0</td>\n",
       "      <td>6.0244</td>\n",
       "      <td>50.7983</td>\n",
       "    </tr>\n",
       "    <tr>\n",
       "      <th>244836</th>\n",
       "      <td>2017-08-16 18:00:00</td>\n",
       "      <td>15000</td>\n",
       "      <td>0.2</td>\n",
       "      <td>6.0244</td>\n",
       "      <td>50.7983</td>\n",
       "    </tr>\n",
       "    <tr>\n",
       "      <th>244837</th>\n",
       "      <td>2017-08-16 19:00:00</td>\n",
       "      <td>15000</td>\n",
       "      <td>0.0</td>\n",
       "      <td>6.0244</td>\n",
       "      <td>50.7983</td>\n",
       "    </tr>\n",
       "    <tr>\n",
       "      <th>244838</th>\n",
       "      <td>2017-08-16 20:00:00</td>\n",
       "      <td>15000</td>\n",
       "      <td>0.0</td>\n",
       "      <td>6.0244</td>\n",
       "      <td>50.7983</td>\n",
       "    </tr>\n",
       "    <tr>\n",
       "      <th>244839</th>\n",
       "      <td>2017-08-16 21:00:00</td>\n",
       "      <td>15000</td>\n",
       "      <td>0.0</td>\n",
       "      <td>6.0244</td>\n",
       "      <td>50.7983</td>\n",
       "    </tr>\n",
       "    <tr>\n",
       "      <th>244840</th>\n",
       "      <td>2017-08-16 22:00:00</td>\n",
       "      <td>15000</td>\n",
       "      <td>0.0</td>\n",
       "      <td>6.0244</td>\n",
       "      <td>50.7983</td>\n",
       "    </tr>\n",
       "    <tr>\n",
       "      <th>244841</th>\n",
       "      <td>2017-08-16 23:00:00</td>\n",
       "      <td>15000</td>\n",
       "      <td>0.0</td>\n",
       "      <td>6.0244</td>\n",
       "      <td>50.7983</td>\n",
       "    </tr>\n",
       "    <tr>\n",
       "      <th>244842</th>\n",
       "      <td>2017-08-17 00:00:00</td>\n",
       "      <td>15000</td>\n",
       "      <td>0.0</td>\n",
       "      <td>6.0244</td>\n",
       "      <td>50.7983</td>\n",
       "    </tr>\n",
       "  </tbody>\n",
       "</table>\n",
       "</div>"
      ],
      "text/plain": [
       "                 mess_datum  station_id   r1  longitude  latitude\n",
       "244833  2017-08-16 15:00:00       15000  0.0     6.0244   50.7983\n",
       "244834  2017-08-16 16:00:00       15000  0.0     6.0244   50.7983\n",
       "244835  2017-08-16 17:00:00       15000  0.0     6.0244   50.7983\n",
       "244836  2017-08-16 18:00:00       15000  0.2     6.0244   50.7983\n",
       "244837  2017-08-16 19:00:00       15000  0.0     6.0244   50.7983\n",
       "244838  2017-08-16 20:00:00       15000  0.0     6.0244   50.7983\n",
       "244839  2017-08-16 21:00:00       15000  0.0     6.0244   50.7983\n",
       "244840  2017-08-16 22:00:00       15000  0.0     6.0244   50.7983\n",
       "244841  2017-08-16 23:00:00       15000  0.0     6.0244   50.7983\n",
       "244842  2017-08-17 00:00:00       15000  0.0     6.0244   50.7983"
      ]
     },
     "execution_count": 3,
     "metadata": {},
     "output_type": "execute_result"
    }
   ],
   "source": [
    "data.tail(10)"
   ]
  },
  {
   "cell_type": "code",
   "execution_count": 4,
   "metadata": {},
   "outputs": [],
   "source": [
    "import datetime as dt"
   ]
  },
  {
   "cell_type": "code",
   "execution_count": 5,
   "metadata": {},
   "outputs": [],
   "source": [
    "data['day1'] = pd.to_datetime(data['mess_datum'])"
   ]
  },
  {
   "cell_type": "code",
   "execution_count": 6,
   "metadata": {},
   "outputs": [],
   "source": [
    "day = data['day1'].dt.date"
   ]
  },
  {
   "cell_type": "code",
   "execution_count": 7,
   "metadata": {},
   "outputs": [
    {
     "data": {
      "text/html": [
       "<div>\n",
       "<style scoped>\n",
       "    .dataframe tbody tr th:only-of-type {\n",
       "        vertical-align: middle;\n",
       "    }\n",
       "\n",
       "    .dataframe tbody tr th {\n",
       "        vertical-align: top;\n",
       "    }\n",
       "\n",
       "    .dataframe thead th {\n",
       "        text-align: right;\n",
       "    }\n",
       "</style>\n",
       "<table border=\"1\" class=\"dataframe\">\n",
       "  <thead>\n",
       "    <tr style=\"text-align: right;\">\n",
       "      <th></th>\n",
       "      <th>mess_datum</th>\n",
       "      <th>station_id</th>\n",
       "      <th>r1</th>\n",
       "      <th>longitude</th>\n",
       "      <th>latitude</th>\n",
       "      <th>day1</th>\n",
       "    </tr>\n",
       "  </thead>\n",
       "  <tbody>\n",
       "    <tr>\n",
       "      <th>244838</th>\n",
       "      <td>2017-08-16 20:00:00</td>\n",
       "      <td>15000</td>\n",
       "      <td>0.0</td>\n",
       "      <td>6.0244</td>\n",
       "      <td>50.7983</td>\n",
       "      <td>2017-08-16 20:00:00</td>\n",
       "    </tr>\n",
       "    <tr>\n",
       "      <th>244839</th>\n",
       "      <td>2017-08-16 21:00:00</td>\n",
       "      <td>15000</td>\n",
       "      <td>0.0</td>\n",
       "      <td>6.0244</td>\n",
       "      <td>50.7983</td>\n",
       "      <td>2017-08-16 21:00:00</td>\n",
       "    </tr>\n",
       "    <tr>\n",
       "      <th>244840</th>\n",
       "      <td>2017-08-16 22:00:00</td>\n",
       "      <td>15000</td>\n",
       "      <td>0.0</td>\n",
       "      <td>6.0244</td>\n",
       "      <td>50.7983</td>\n",
       "      <td>2017-08-16 22:00:00</td>\n",
       "    </tr>\n",
       "    <tr>\n",
       "      <th>244841</th>\n",
       "      <td>2017-08-16 23:00:00</td>\n",
       "      <td>15000</td>\n",
       "      <td>0.0</td>\n",
       "      <td>6.0244</td>\n",
       "      <td>50.7983</td>\n",
       "      <td>2017-08-16 23:00:00</td>\n",
       "    </tr>\n",
       "    <tr>\n",
       "      <th>244842</th>\n",
       "      <td>2017-08-17 00:00:00</td>\n",
       "      <td>15000</td>\n",
       "      <td>0.0</td>\n",
       "      <td>6.0244</td>\n",
       "      <td>50.7983</td>\n",
       "      <td>2017-08-17 00:00:00</td>\n",
       "    </tr>\n",
       "  </tbody>\n",
       "</table>\n",
       "</div>"
      ],
      "text/plain": [
       "                 mess_datum  station_id   r1  longitude  latitude  \\\n",
       "244838  2017-08-16 20:00:00       15000  0.0     6.0244   50.7983   \n",
       "244839  2017-08-16 21:00:00       15000  0.0     6.0244   50.7983   \n",
       "244840  2017-08-16 22:00:00       15000  0.0     6.0244   50.7983   \n",
       "244841  2017-08-16 23:00:00       15000  0.0     6.0244   50.7983   \n",
       "244842  2017-08-17 00:00:00       15000  0.0     6.0244   50.7983   \n",
       "\n",
       "                      day1  \n",
       "244838 2017-08-16 20:00:00  \n",
       "244839 2017-08-16 21:00:00  \n",
       "244840 2017-08-16 22:00:00  \n",
       "244841 2017-08-16 23:00:00  \n",
       "244842 2017-08-17 00:00:00  "
      ]
     },
     "execution_count": 7,
     "metadata": {},
     "output_type": "execute_result"
    }
   ],
   "source": [
    "data.tail()"
   ]
  },
  {
   "cell_type": "code",
   "execution_count": 8,
   "metadata": {},
   "outputs": [
    {
     "data": {
      "text/plain": [
       "0         2017-04-16 00:00:00\n",
       "1         2017-04-16 01:00:00\n",
       "2         2017-04-16 02:00:00\n",
       "3         2017-04-16 03:00:00\n",
       "4         2017-04-16 04:00:00\n",
       "                 ...         \n",
       "244838    2017-08-16 20:00:00\n",
       "244839    2017-08-16 21:00:00\n",
       "244840    2017-08-16 22:00:00\n",
       "244841    2017-08-16 23:00:00\n",
       "244842    2017-08-17 00:00:00\n",
       "Name: mess_datum, Length: 244843, dtype: object"
      ]
     },
     "execution_count": 8,
     "metadata": {},
     "output_type": "execute_result"
    }
   ],
   "source": [
    "data['mess_datum']"
   ]
  },
  {
   "cell_type": "code",
   "execution_count": 9,
   "metadata": {},
   "outputs": [],
   "source": [
    "data['mess_datum']=pd.to_datetime(data.mess_datum, format='%Y/%m/%d %H:%M:%S')"
   ]
  },
  {
   "cell_type": "code",
   "execution_count": 10,
   "metadata": {},
   "outputs": [],
   "source": [
    "data.insert(loc=6, column='day', value=(data.mess_datum.dt.date))"
   ]
  },
  {
   "cell_type": "code",
   "execution_count": 11,
   "metadata": {},
   "outputs": [
    {
     "data": {
      "text/html": [
       "<div>\n",
       "<style scoped>\n",
       "    .dataframe tbody tr th:only-of-type {\n",
       "        vertical-align: middle;\n",
       "    }\n",
       "\n",
       "    .dataframe tbody tr th {\n",
       "        vertical-align: top;\n",
       "    }\n",
       "\n",
       "    .dataframe thead th {\n",
       "        text-align: right;\n",
       "    }\n",
       "</style>\n",
       "<table border=\"1\" class=\"dataframe\">\n",
       "  <thead>\n",
       "    <tr style=\"text-align: right;\">\n",
       "      <th></th>\n",
       "      <th>mess_datum</th>\n",
       "      <th>station_id</th>\n",
       "      <th>r1</th>\n",
       "      <th>longitude</th>\n",
       "      <th>latitude</th>\n",
       "      <th>day1</th>\n",
       "      <th>day</th>\n",
       "    </tr>\n",
       "  </thead>\n",
       "  <tbody>\n",
       "    <tr>\n",
       "      <th>244838</th>\n",
       "      <td>2017-08-16 20:00:00</td>\n",
       "      <td>15000</td>\n",
       "      <td>0.0</td>\n",
       "      <td>6.0244</td>\n",
       "      <td>50.7983</td>\n",
       "      <td>2017-08-16 20:00:00</td>\n",
       "      <td>2017-08-16</td>\n",
       "    </tr>\n",
       "    <tr>\n",
       "      <th>244839</th>\n",
       "      <td>2017-08-16 21:00:00</td>\n",
       "      <td>15000</td>\n",
       "      <td>0.0</td>\n",
       "      <td>6.0244</td>\n",
       "      <td>50.7983</td>\n",
       "      <td>2017-08-16 21:00:00</td>\n",
       "      <td>2017-08-16</td>\n",
       "    </tr>\n",
       "    <tr>\n",
       "      <th>244840</th>\n",
       "      <td>2017-08-16 22:00:00</td>\n",
       "      <td>15000</td>\n",
       "      <td>0.0</td>\n",
       "      <td>6.0244</td>\n",
       "      <td>50.7983</td>\n",
       "      <td>2017-08-16 22:00:00</td>\n",
       "      <td>2017-08-16</td>\n",
       "    </tr>\n",
       "    <tr>\n",
       "      <th>244841</th>\n",
       "      <td>2017-08-16 23:00:00</td>\n",
       "      <td>15000</td>\n",
       "      <td>0.0</td>\n",
       "      <td>6.0244</td>\n",
       "      <td>50.7983</td>\n",
       "      <td>2017-08-16 23:00:00</td>\n",
       "      <td>2017-08-16</td>\n",
       "    </tr>\n",
       "    <tr>\n",
       "      <th>244842</th>\n",
       "      <td>2017-08-17 00:00:00</td>\n",
       "      <td>15000</td>\n",
       "      <td>0.0</td>\n",
       "      <td>6.0244</td>\n",
       "      <td>50.7983</td>\n",
       "      <td>2017-08-17 00:00:00</td>\n",
       "      <td>2017-08-17</td>\n",
       "    </tr>\n",
       "  </tbody>\n",
       "</table>\n",
       "</div>"
      ],
      "text/plain": [
       "                mess_datum  station_id   r1  longitude  latitude  \\\n",
       "244838 2017-08-16 20:00:00       15000  0.0     6.0244   50.7983   \n",
       "244839 2017-08-16 21:00:00       15000  0.0     6.0244   50.7983   \n",
       "244840 2017-08-16 22:00:00       15000  0.0     6.0244   50.7983   \n",
       "244841 2017-08-16 23:00:00       15000  0.0     6.0244   50.7983   \n",
       "244842 2017-08-17 00:00:00       15000  0.0     6.0244   50.7983   \n",
       "\n",
       "                      day1         day  \n",
       "244838 2017-08-16 20:00:00  2017-08-16  \n",
       "244839 2017-08-16 21:00:00  2017-08-16  \n",
       "244840 2017-08-16 22:00:00  2017-08-16  \n",
       "244841 2017-08-16 23:00:00  2017-08-16  \n",
       "244842 2017-08-17 00:00:00  2017-08-17  "
      ]
     },
     "execution_count": 11,
     "metadata": {},
     "output_type": "execute_result"
    }
   ],
   "source": [
    "data.tail()"
   ]
  },
  {
   "cell_type": "code",
   "execution_count": 12,
   "metadata": {},
   "outputs": [],
   "source": [
    "#removing a column\n",
    "del data['day1'] \n",
    "#del data['day_new']"
   ]
  },
  {
   "cell_type": "code",
   "execution_count": 13,
   "metadata": {},
   "outputs": [
    {
     "data": {
      "text/plain": [
       "pandas.core.series.Series"
      ]
     },
     "execution_count": 13,
     "metadata": {},
     "output_type": "execute_result"
    }
   ],
   "source": [
    "type(data['station_id'])"
   ]
  },
  {
   "cell_type": "markdown",
   "metadata": {},
   "source": [
    "Stations of interest in Olpe and Hochsauerlandskreis:\n",
    "216, 1300, 2483, 2947, 3215, 4488, 5468, 6264, 7330"
   ]
  },
  {
   "cell_type": "code",
   "execution_count": 14,
   "metadata": {},
   "outputs": [
    {
     "data": {
      "text/plain": [
       "pandas.core.series.Series"
      ]
     },
     "execution_count": 14,
     "metadata": {},
     "output_type": "execute_result"
    }
   ],
   "source": [
    "#data['stations_id'] = int(data['stations_id'])\n",
    "data['station_id'] = data['station_id'].astype(int)\n",
    "type(data['station_id'])"
   ]
  },
  {
   "cell_type": "code",
   "execution_count": 15,
   "metadata": {},
   "outputs": [],
   "source": [
    "indx = (data['station_id'] == 216) | (data['station_id'] == 1300) |(data['station_id'] == 2483) | (data['station_id'] == 2947) | (data['station_id'] == 3215) | (data['station_id'] == 4488) | (data['station_id'] == 5468) | (data['station_id'] == 6264) | (data['station_id'] == 7330)"
   ]
  },
  {
   "cell_type": "code",
   "execution_count": 16,
   "metadata": {},
   "outputs": [],
   "source": [
    "stations_of_interest = data[indx][[\"mess_datum\",\"station_id\", \"r1\",\"longitude\", \"latitude\",\"day\"]]"
   ]
  },
  {
   "cell_type": "code",
   "execution_count": 17,
   "metadata": {},
   "outputs": [
    {
     "data": {
      "text/html": [
       "<div>\n",
       "<style scoped>\n",
       "    .dataframe tbody tr th:only-of-type {\n",
       "        vertical-align: middle;\n",
       "    }\n",
       "\n",
       "    .dataframe tbody tr th {\n",
       "        vertical-align: top;\n",
       "    }\n",
       "\n",
       "    .dataframe thead th {\n",
       "        text-align: right;\n",
       "    }\n",
       "</style>\n",
       "<table border=\"1\" class=\"dataframe\">\n",
       "  <thead>\n",
       "    <tr style=\"text-align: right;\">\n",
       "      <th></th>\n",
       "      <th>mess_datum</th>\n",
       "      <th>station_id</th>\n",
       "      <th>r1</th>\n",
       "      <th>longitude</th>\n",
       "      <th>latitude</th>\n",
       "      <th>day</th>\n",
       "    </tr>\n",
       "  </thead>\n",
       "  <tbody>\n",
       "    <tr>\n",
       "      <th>0</th>\n",
       "      <td>2017-04-16 00:00:00</td>\n",
       "      <td>216</td>\n",
       "      <td>0.0</td>\n",
       "      <td>7.8807</td>\n",
       "      <td>51.1143</td>\n",
       "      <td>2017-04-16</td>\n",
       "    </tr>\n",
       "    <tr>\n",
       "      <th>1</th>\n",
       "      <td>2017-04-16 01:00:00</td>\n",
       "      <td>216</td>\n",
       "      <td>0.1</td>\n",
       "      <td>7.8807</td>\n",
       "      <td>51.1143</td>\n",
       "      <td>2017-04-16</td>\n",
       "    </tr>\n",
       "    <tr>\n",
       "      <th>2</th>\n",
       "      <td>2017-04-16 02:00:00</td>\n",
       "      <td>216</td>\n",
       "      <td>0.1</td>\n",
       "      <td>7.8807</td>\n",
       "      <td>51.1143</td>\n",
       "      <td>2017-04-16</td>\n",
       "    </tr>\n",
       "    <tr>\n",
       "      <th>3</th>\n",
       "      <td>2017-04-16 03:00:00</td>\n",
       "      <td>216</td>\n",
       "      <td>0.0</td>\n",
       "      <td>7.8807</td>\n",
       "      <td>51.1143</td>\n",
       "      <td>2017-04-16</td>\n",
       "    </tr>\n",
       "    <tr>\n",
       "      <th>4</th>\n",
       "      <td>2017-04-16 04:00:00</td>\n",
       "      <td>216</td>\n",
       "      <td>0.0</td>\n",
       "      <td>7.8807</td>\n",
       "      <td>51.1143</td>\n",
       "      <td>2017-04-16</td>\n",
       "    </tr>\n",
       "    <tr>\n",
       "      <th>...</th>\n",
       "      <td>...</td>\n",
       "      <td>...</td>\n",
       "      <td>...</td>\n",
       "      <td>...</td>\n",
       "      <td>...</td>\n",
       "      <td>...</td>\n",
       "    </tr>\n",
       "    <tr>\n",
       "      <th>215327</th>\n",
       "      <td>2017-08-16 20:00:00</td>\n",
       "      <td>7330</td>\n",
       "      <td>0.0</td>\n",
       "      <td>7.9780</td>\n",
       "      <td>51.4633</td>\n",
       "      <td>2017-08-16</td>\n",
       "    </tr>\n",
       "    <tr>\n",
       "      <th>215328</th>\n",
       "      <td>2017-08-16 21:00:00</td>\n",
       "      <td>7330</td>\n",
       "      <td>0.0</td>\n",
       "      <td>7.9780</td>\n",
       "      <td>51.4633</td>\n",
       "      <td>2017-08-16</td>\n",
       "    </tr>\n",
       "    <tr>\n",
       "      <th>215329</th>\n",
       "      <td>2017-08-16 22:00:00</td>\n",
       "      <td>7330</td>\n",
       "      <td>0.0</td>\n",
       "      <td>7.9780</td>\n",
       "      <td>51.4633</td>\n",
       "      <td>2017-08-16</td>\n",
       "    </tr>\n",
       "    <tr>\n",
       "      <th>215330</th>\n",
       "      <td>2017-08-16 23:00:00</td>\n",
       "      <td>7330</td>\n",
       "      <td>0.0</td>\n",
       "      <td>7.9780</td>\n",
       "      <td>51.4633</td>\n",
       "      <td>2017-08-16</td>\n",
       "    </tr>\n",
       "    <tr>\n",
       "      <th>215331</th>\n",
       "      <td>2017-08-17 00:00:00</td>\n",
       "      <td>7330</td>\n",
       "      <td>0.0</td>\n",
       "      <td>7.9780</td>\n",
       "      <td>51.4633</td>\n",
       "      <td>2017-08-17</td>\n",
       "    </tr>\n",
       "  </tbody>\n",
       "</table>\n",
       "<p>23590 rows × 6 columns</p>\n",
       "</div>"
      ],
      "text/plain": [
       "                mess_datum  station_id   r1  longitude  latitude         day\n",
       "0      2017-04-16 00:00:00         216  0.0     7.8807   51.1143  2017-04-16\n",
       "1      2017-04-16 01:00:00         216  0.1     7.8807   51.1143  2017-04-16\n",
       "2      2017-04-16 02:00:00         216  0.1     7.8807   51.1143  2017-04-16\n",
       "3      2017-04-16 03:00:00         216  0.0     7.8807   51.1143  2017-04-16\n",
       "4      2017-04-16 04:00:00         216  0.0     7.8807   51.1143  2017-04-16\n",
       "...                    ...         ...  ...        ...       ...         ...\n",
       "215327 2017-08-16 20:00:00        7330  0.0     7.9780   51.4633  2017-08-16\n",
       "215328 2017-08-16 21:00:00        7330  0.0     7.9780   51.4633  2017-08-16\n",
       "215329 2017-08-16 22:00:00        7330  0.0     7.9780   51.4633  2017-08-16\n",
       "215330 2017-08-16 23:00:00        7330  0.0     7.9780   51.4633  2017-08-16\n",
       "215331 2017-08-17 00:00:00        7330  0.0     7.9780   51.4633  2017-08-17\n",
       "\n",
       "[23590 rows x 6 columns]"
      ]
     },
     "execution_count": 17,
     "metadata": {},
     "output_type": "execute_result"
    }
   ],
   "source": [
    "stations_of_interest"
   ]
  },
  {
   "cell_type": "code",
   "execution_count": 18,
   "metadata": {},
   "outputs": [],
   "source": [
    "df_1 = stations_of_interest.groupby(['day','station_id'])['r1'].sum().to_frame(name = 'daily_prep').reset_index()"
   ]
  },
  {
   "cell_type": "code",
   "execution_count": 19,
   "metadata": {},
   "outputs": [
    {
     "data": {
      "text/html": [
       "<div>\n",
       "<style scoped>\n",
       "    .dataframe tbody tr th:only-of-type {\n",
       "        vertical-align: middle;\n",
       "    }\n",
       "\n",
       "    .dataframe tbody tr th {\n",
       "        vertical-align: top;\n",
       "    }\n",
       "\n",
       "    .dataframe thead th {\n",
       "        text-align: right;\n",
       "    }\n",
       "</style>\n",
       "<table border=\"1\" class=\"dataframe\">\n",
       "  <thead>\n",
       "    <tr style=\"text-align: right;\">\n",
       "      <th></th>\n",
       "      <th>day</th>\n",
       "      <th>station_id</th>\n",
       "      <th>daily_prep</th>\n",
       "    </tr>\n",
       "  </thead>\n",
       "  <tbody>\n",
       "    <tr>\n",
       "      <th>0</th>\n",
       "      <td>2017-04-16</td>\n",
       "      <td>216</td>\n",
       "      <td>4.3</td>\n",
       "    </tr>\n",
       "    <tr>\n",
       "      <th>1</th>\n",
       "      <td>2017-04-16</td>\n",
       "      <td>1300</td>\n",
       "      <td>3.3</td>\n",
       "    </tr>\n",
       "    <tr>\n",
       "      <th>2</th>\n",
       "      <td>2017-04-16</td>\n",
       "      <td>2483</td>\n",
       "      <td>4.4</td>\n",
       "    </tr>\n",
       "    <tr>\n",
       "      <th>3</th>\n",
       "      <td>2017-04-16</td>\n",
       "      <td>2947</td>\n",
       "      <td>4.7</td>\n",
       "    </tr>\n",
       "    <tr>\n",
       "      <th>4</th>\n",
       "      <td>2017-04-16</td>\n",
       "      <td>3215</td>\n",
       "      <td>1.7</td>\n",
       "    </tr>\n",
       "    <tr>\n",
       "      <th>...</th>\n",
       "      <td>...</td>\n",
       "      <td>...</td>\n",
       "      <td>...</td>\n",
       "    </tr>\n",
       "    <tr>\n",
       "      <th>987</th>\n",
       "      <td>2017-08-17</td>\n",
       "      <td>2947</td>\n",
       "      <td>0.0</td>\n",
       "    </tr>\n",
       "    <tr>\n",
       "      <th>988</th>\n",
       "      <td>2017-08-17</td>\n",
       "      <td>3215</td>\n",
       "      <td>0.0</td>\n",
       "    </tr>\n",
       "    <tr>\n",
       "      <th>989</th>\n",
       "      <td>2017-08-17</td>\n",
       "      <td>4488</td>\n",
       "      <td>0.0</td>\n",
       "    </tr>\n",
       "    <tr>\n",
       "      <th>990</th>\n",
       "      <td>2017-08-17</td>\n",
       "      <td>6264</td>\n",
       "      <td>0.0</td>\n",
       "    </tr>\n",
       "    <tr>\n",
       "      <th>991</th>\n",
       "      <td>2017-08-17</td>\n",
       "      <td>7330</td>\n",
       "      <td>0.0</td>\n",
       "    </tr>\n",
       "  </tbody>\n",
       "</table>\n",
       "<p>992 rows × 3 columns</p>\n",
       "</div>"
      ],
      "text/plain": [
       "            day  station_id  daily_prep\n",
       "0    2017-04-16         216         4.3\n",
       "1    2017-04-16        1300         3.3\n",
       "2    2017-04-16        2483         4.4\n",
       "3    2017-04-16        2947         4.7\n",
       "4    2017-04-16        3215         1.7\n",
       "..          ...         ...         ...\n",
       "987  2017-08-17        2947         0.0\n",
       "988  2017-08-17        3215         0.0\n",
       "989  2017-08-17        4488         0.0\n",
       "990  2017-08-17        6264         0.0\n",
       "991  2017-08-17        7330         0.0\n",
       "\n",
       "[992 rows x 3 columns]"
      ]
     },
     "execution_count": 19,
     "metadata": {},
     "output_type": "execute_result"
    }
   ],
   "source": [
    "df_1"
   ]
  },
  {
   "cell_type": "code",
   "execution_count": 20,
   "metadata": {},
   "outputs": [
    {
     "name": "stdout",
     "output_type": "stream",
     "text": [
      "df_appended_ts saved to: daily_prep_13_counties.csv\n"
     ]
    }
   ],
   "source": [
    "filepathname = \"daily_prep_13_counties.csv\"\n",
    "print(\"df_appended_ts saved to: %s\" % (filepathname))\n",
    "df_1.to_csv(filepathname,sep=\";\")"
   ]
  },
  {
   "cell_type": "markdown",
   "metadata": {},
   "source": [
    "#### Plot of daily precipitation rate over a four months"
   ]
  },
  {
   "cell_type": "markdown",
   "metadata": {},
   "source": [
    "#### Plotting"
   ]
  },
  {
   "cell_type": "markdown",
   "metadata": {},
   "source": [
    "Plotting cumulative precipitation "
   ]
  },
  {
   "cell_type": "code",
   "execution_count": 21,
   "metadata": {},
   "outputs": [],
   "source": [
    "df_new = df_1.groupby(['day'])['daily_prep'].mean().to_frame(name = 'avg_daily_prep').reset_index()"
   ]
  },
  {
   "cell_type": "code",
   "execution_count": 22,
   "metadata": {},
   "outputs": [
    {
     "data": {
      "text/html": [
       "<div>\n",
       "<style scoped>\n",
       "    .dataframe tbody tr th:only-of-type {\n",
       "        vertical-align: middle;\n",
       "    }\n",
       "\n",
       "    .dataframe tbody tr th {\n",
       "        vertical-align: top;\n",
       "    }\n",
       "\n",
       "    .dataframe thead th {\n",
       "        text-align: right;\n",
       "    }\n",
       "</style>\n",
       "<table border=\"1\" class=\"dataframe\">\n",
       "  <thead>\n",
       "    <tr style=\"text-align: right;\">\n",
       "      <th></th>\n",
       "      <th>day</th>\n",
       "      <th>avg_daily_prep</th>\n",
       "    </tr>\n",
       "  </thead>\n",
       "  <tbody>\n",
       "    <tr>\n",
       "      <th>0</th>\n",
       "      <td>2017-04-16</td>\n",
       "      <td>3.0375</td>\n",
       "    </tr>\n",
       "    <tr>\n",
       "      <th>1</th>\n",
       "      <td>2017-04-17</td>\n",
       "      <td>10.1750</td>\n",
       "    </tr>\n",
       "    <tr>\n",
       "      <th>2</th>\n",
       "      <td>2017-04-18</td>\n",
       "      <td>4.7875</td>\n",
       "    </tr>\n",
       "    <tr>\n",
       "      <th>3</th>\n",
       "      <td>2017-04-19</td>\n",
       "      <td>0.0000</td>\n",
       "    </tr>\n",
       "    <tr>\n",
       "      <th>4</th>\n",
       "      <td>2017-04-20</td>\n",
       "      <td>0.0000</td>\n",
       "    </tr>\n",
       "    <tr>\n",
       "      <th>...</th>\n",
       "      <td>...</td>\n",
       "      <td>...</td>\n",
       "    </tr>\n",
       "    <tr>\n",
       "      <th>119</th>\n",
       "      <td>2017-08-13</td>\n",
       "      <td>2.5625</td>\n",
       "    </tr>\n",
       "    <tr>\n",
       "      <th>120</th>\n",
       "      <td>2017-08-14</td>\n",
       "      <td>0.0000</td>\n",
       "    </tr>\n",
       "    <tr>\n",
       "      <th>121</th>\n",
       "      <td>2017-08-15</td>\n",
       "      <td>0.7750</td>\n",
       "    </tr>\n",
       "    <tr>\n",
       "      <th>122</th>\n",
       "      <td>2017-08-16</td>\n",
       "      <td>5.9500</td>\n",
       "    </tr>\n",
       "    <tr>\n",
       "      <th>123</th>\n",
       "      <td>2017-08-17</td>\n",
       "      <td>0.0000</td>\n",
       "    </tr>\n",
       "  </tbody>\n",
       "</table>\n",
       "<p>124 rows × 2 columns</p>\n",
       "</div>"
      ],
      "text/plain": [
       "            day  avg_daily_prep\n",
       "0    2017-04-16          3.0375\n",
       "1    2017-04-17         10.1750\n",
       "2    2017-04-18          4.7875\n",
       "3    2017-04-19          0.0000\n",
       "4    2017-04-20          0.0000\n",
       "..          ...             ...\n",
       "119  2017-08-13          2.5625\n",
       "120  2017-08-14          0.0000\n",
       "121  2017-08-15          0.7750\n",
       "122  2017-08-16          5.9500\n",
       "123  2017-08-17          0.0000\n",
       "\n",
       "[124 rows x 2 columns]"
      ]
     },
     "execution_count": 22,
     "metadata": {},
     "output_type": "execute_result"
    }
   ],
   "source": [
    "df_new"
   ]
  },
  {
   "cell_type": "code",
   "execution_count": 23,
   "metadata": {},
   "outputs": [
    {
     "data": {
      "image/png": "[encoded data removed]",
      "text/plain": [
       "<Figure size 1088x544 with 1 Axes>"
      ]
     },
     "metadata": {
      "needs_background": "light"
     },
     "output_type": "display_data"
    }
   ],
   "source": [
    "fig = plt.figure(dpi= 136, figsize=(8,4))\n",
    "plt.bar(x=df_new['day'],height=df_new['avg_daily_prep'])\n",
    "\n",
    "plt.xlabel('Time')\n",
    "plt.ylabel('Average Daily Precipitation rate (mm/day)')\n",
    "plt.title('Average Daily Precipitation in Olpe & HSK over 4 months')\n",
    "plt.xticks(rotation=65)\n",
    "plt.savefig('C:/Users/Toshiba/Desktop/Master courses/Geoinformatics/Exercises/Exam files/avg_daily_prec_Olpe_HSK')\n",
    "plt.show()"
   ]
  },
  {
   "cell_type": "markdown",
   "metadata": {},
   "source": [
    "#### Creating two data frames for Olpe and Hochsauerlandkreis for plotting as separate graphs in the same diagram"
   ]
  },
  {
   "cell_type": "code",
   "execution_count": 24,
   "metadata": {},
   "outputs": [],
   "source": [
    "olpe = df_1[df_1['station_id'].isin([216,2947,5468])]#216, 2947,5468 olpe stations\n",
    "\n",
    "hochsauerlandkreis = df_1[df_1['station_id'].isin([1300,2483,3215,4488,6264,7330])]#1300, 2483, 3215, 4488, 6264, 7330 hochsauerlandkreis stations"
   ]
  },
  {
   "cell_type": "code",
   "execution_count": 25,
   "metadata": {},
   "outputs": [
    {
     "data": {
      "text/html": [
       "<div>\n",
       "<style scoped>\n",
       "    .dataframe tbody tr th:only-of-type {\n",
       "        vertical-align: middle;\n",
       "    }\n",
       "\n",
       "    .dataframe tbody tr th {\n",
       "        vertical-align: top;\n",
       "    }\n",
       "\n",
       "    .dataframe thead th {\n",
       "        text-align: right;\n",
       "    }\n",
       "</style>\n",
       "<table border=\"1\" class=\"dataframe\">\n",
       "  <thead>\n",
       "    <tr style=\"text-align: right;\">\n",
       "      <th></th>\n",
       "      <th>day</th>\n",
       "      <th>station_id</th>\n",
       "      <th>daily_prep</th>\n",
       "    </tr>\n",
       "  </thead>\n",
       "  <tbody>\n",
       "    <tr>\n",
       "      <th>0</th>\n",
       "      <td>2017-04-16</td>\n",
       "      <td>216</td>\n",
       "      <td>4.3</td>\n",
       "    </tr>\n",
       "    <tr>\n",
       "      <th>3</th>\n",
       "      <td>2017-04-16</td>\n",
       "      <td>2947</td>\n",
       "      <td>4.7</td>\n",
       "    </tr>\n",
       "    <tr>\n",
       "      <th>8</th>\n",
       "      <td>2017-04-17</td>\n",
       "      <td>216</td>\n",
       "      <td>14.6</td>\n",
       "    </tr>\n",
       "    <tr>\n",
       "      <th>11</th>\n",
       "      <td>2017-04-17</td>\n",
       "      <td>2947</td>\n",
       "      <td>12.0</td>\n",
       "    </tr>\n",
       "    <tr>\n",
       "      <th>16</th>\n",
       "      <td>2017-04-18</td>\n",
       "      <td>216</td>\n",
       "      <td>2.6</td>\n",
       "    </tr>\n",
       "    <tr>\n",
       "      <th>...</th>\n",
       "      <td>...</td>\n",
       "      <td>...</td>\n",
       "      <td>...</td>\n",
       "    </tr>\n",
       "    <tr>\n",
       "      <th>971</th>\n",
       "      <td>2017-08-15</td>\n",
       "      <td>2947</td>\n",
       "      <td>0.3</td>\n",
       "    </tr>\n",
       "    <tr>\n",
       "      <th>976</th>\n",
       "      <td>2017-08-16</td>\n",
       "      <td>216</td>\n",
       "      <td>11.7</td>\n",
       "    </tr>\n",
       "    <tr>\n",
       "      <th>979</th>\n",
       "      <td>2017-08-16</td>\n",
       "      <td>2947</td>\n",
       "      <td>7.1</td>\n",
       "    </tr>\n",
       "    <tr>\n",
       "      <th>984</th>\n",
       "      <td>2017-08-17</td>\n",
       "      <td>216</td>\n",
       "      <td>0.0</td>\n",
       "    </tr>\n",
       "    <tr>\n",
       "      <th>987</th>\n",
       "      <td>2017-08-17</td>\n",
       "      <td>2947</td>\n",
       "      <td>0.0</td>\n",
       "    </tr>\n",
       "  </tbody>\n",
       "</table>\n",
       "<p>248 rows × 3 columns</p>\n",
       "</div>"
      ],
      "text/plain": [
       "            day  station_id  daily_prep\n",
       "0    2017-04-16         216         4.3\n",
       "3    2017-04-16        2947         4.7\n",
       "8    2017-04-17         216        14.6\n",
       "11   2017-04-17        2947        12.0\n",
       "16   2017-04-18         216         2.6\n",
       "..          ...         ...         ...\n",
       "971  2017-08-15        2947         0.3\n",
       "976  2017-08-16         216        11.7\n",
       "979  2017-08-16        2947         7.1\n",
       "984  2017-08-17         216         0.0\n",
       "987  2017-08-17        2947         0.0\n",
       "\n",
       "[248 rows x 3 columns]"
      ]
     },
     "execution_count": 25,
     "metadata": {},
     "output_type": "execute_result"
    }
   ],
   "source": [
    "olpe"
   ]
  },
  {
   "cell_type": "markdown",
   "metadata": {},
   "source": [
    "#### Average daily precipitation values of all stations in Olpe and Hochsauerlandkreis "
   ]
  },
  {
   "cell_type": "code",
   "execution_count": 26,
   "metadata": {},
   "outputs": [],
   "source": [
    "df_2 = olpe.groupby(['day'])['daily_prep'].mean().to_frame(name = 'Olpe_avg_daily_prep').reset_index()\n",
    "df_3 = hochsauerlandkreis.groupby(['day'])['daily_prep'].mean().to_frame(name = 'HSK_avg_daily_prep').reset_index()"
   ]
  },
  {
   "cell_type": "code",
   "execution_count": 27,
   "metadata": {},
   "outputs": [
    {
     "data": {
      "text/html": [
       "<div>\n",
       "<style scoped>\n",
       "    .dataframe tbody tr th:only-of-type {\n",
       "        vertical-align: middle;\n",
       "    }\n",
       "\n",
       "    .dataframe tbody tr th {\n",
       "        vertical-align: top;\n",
       "    }\n",
       "\n",
       "    .dataframe thead th {\n",
       "        text-align: right;\n",
       "    }\n",
       "</style>\n",
       "<table border=\"1\" class=\"dataframe\">\n",
       "  <thead>\n",
       "    <tr style=\"text-align: right;\">\n",
       "      <th></th>\n",
       "      <th>day</th>\n",
       "      <th>Olpe_avg_daily_prep</th>\n",
       "    </tr>\n",
       "  </thead>\n",
       "  <tbody>\n",
       "    <tr>\n",
       "      <th>0</th>\n",
       "      <td>2017-04-16</td>\n",
       "      <td>4.50</td>\n",
       "    </tr>\n",
       "    <tr>\n",
       "      <th>1</th>\n",
       "      <td>2017-04-17</td>\n",
       "      <td>13.30</td>\n",
       "    </tr>\n",
       "    <tr>\n",
       "      <th>2</th>\n",
       "      <td>2017-04-18</td>\n",
       "      <td>3.35</td>\n",
       "    </tr>\n",
       "    <tr>\n",
       "      <th>3</th>\n",
       "      <td>2017-04-19</td>\n",
       "      <td>0.00</td>\n",
       "    </tr>\n",
       "    <tr>\n",
       "      <th>4</th>\n",
       "      <td>2017-04-20</td>\n",
       "      <td>0.00</td>\n",
       "    </tr>\n",
       "    <tr>\n",
       "      <th>...</th>\n",
       "      <td>...</td>\n",
       "      <td>...</td>\n",
       "    </tr>\n",
       "    <tr>\n",
       "      <th>119</th>\n",
       "      <td>2017-08-13</td>\n",
       "      <td>4.05</td>\n",
       "    </tr>\n",
       "    <tr>\n",
       "      <th>120</th>\n",
       "      <td>2017-08-14</td>\n",
       "      <td>0.00</td>\n",
       "    </tr>\n",
       "    <tr>\n",
       "      <th>121</th>\n",
       "      <td>2017-08-15</td>\n",
       "      <td>0.85</td>\n",
       "    </tr>\n",
       "    <tr>\n",
       "      <th>122</th>\n",
       "      <td>2017-08-16</td>\n",
       "      <td>9.40</td>\n",
       "    </tr>\n",
       "    <tr>\n",
       "      <th>123</th>\n",
       "      <td>2017-08-17</td>\n",
       "      <td>0.00</td>\n",
       "    </tr>\n",
       "  </tbody>\n",
       "</table>\n",
       "<p>124 rows × 2 columns</p>\n",
       "</div>"
      ],
      "text/plain": [
       "            day  Olpe_avg_daily_prep\n",
       "0    2017-04-16                 4.50\n",
       "1    2017-04-17                13.30\n",
       "2    2017-04-18                 3.35\n",
       "3    2017-04-19                 0.00\n",
       "4    2017-04-20                 0.00\n",
       "..          ...                  ...\n",
       "119  2017-08-13                 4.05\n",
       "120  2017-08-14                 0.00\n",
       "121  2017-08-15                 0.85\n",
       "122  2017-08-16                 9.40\n",
       "123  2017-08-17                 0.00\n",
       "\n",
       "[124 rows x 2 columns]"
      ]
     },
     "execution_count": 27,
     "metadata": {},
     "output_type": "execute_result"
    }
   ],
   "source": [
    "df_2"
   ]
  },
  {
   "cell_type": "code",
   "execution_count": 28,
   "metadata": {},
   "outputs": [],
   "source": [
    "df_2.insert(loc=2, column='Olpe_cumulative_prec', value=(np.cumsum(df_2['Olpe_avg_daily_prep'])))"
   ]
  },
  {
   "cell_type": "code",
   "execution_count": 29,
   "metadata": {},
   "outputs": [],
   "source": [
    "df_3.insert(loc=2, column='HSK_cumulative_prec', value=(np.cumsum(df_3['HSK_avg_daily_prep'])))"
   ]
  },
  {
   "cell_type": "code",
   "execution_count": 30,
   "metadata": {},
   "outputs": [
    {
     "data": {
      "text/html": [
       "<div>\n",
       "<style scoped>\n",
       "    .dataframe tbody tr th:only-of-type {\n",
       "        vertical-align: middle;\n",
       "    }\n",
       "\n",
       "    .dataframe tbody tr th {\n",
       "        vertical-align: top;\n",
       "    }\n",
       "\n",
       "    .dataframe thead th {\n",
       "        text-align: right;\n",
       "    }\n",
       "</style>\n",
       "<table border=\"1\" class=\"dataframe\">\n",
       "  <thead>\n",
       "    <tr style=\"text-align: right;\">\n",
       "      <th></th>\n",
       "      <th>day</th>\n",
       "      <th>HSK_avg_daily_prep</th>\n",
       "      <th>HSK_cumulative_prec</th>\n",
       "    </tr>\n",
       "  </thead>\n",
       "  <tbody>\n",
       "    <tr>\n",
       "      <th>119</th>\n",
       "      <td>2017-08-13</td>\n",
       "      <td>2.066667</td>\n",
       "      <td>392.40</td>\n",
       "    </tr>\n",
       "    <tr>\n",
       "      <th>120</th>\n",
       "      <td>2017-08-14</td>\n",
       "      <td>0.000000</td>\n",
       "      <td>392.40</td>\n",
       "    </tr>\n",
       "    <tr>\n",
       "      <th>121</th>\n",
       "      <td>2017-08-15</td>\n",
       "      <td>0.750000</td>\n",
       "      <td>393.15</td>\n",
       "    </tr>\n",
       "    <tr>\n",
       "      <th>122</th>\n",
       "      <td>2017-08-16</td>\n",
       "      <td>4.800000</td>\n",
       "      <td>397.95</td>\n",
       "    </tr>\n",
       "    <tr>\n",
       "      <th>123</th>\n",
       "      <td>2017-08-17</td>\n",
       "      <td>0.000000</td>\n",
       "      <td>397.95</td>\n",
       "    </tr>\n",
       "  </tbody>\n",
       "</table>\n",
       "</div>"
      ],
      "text/plain": [
       "            day  HSK_avg_daily_prep  HSK_cumulative_prec\n",
       "119  2017-08-13            2.066667               392.40\n",
       "120  2017-08-14            0.000000               392.40\n",
       "121  2017-08-15            0.750000               393.15\n",
       "122  2017-08-16            4.800000               397.95\n",
       "123  2017-08-17            0.000000               397.95"
      ]
     },
     "execution_count": 30,
     "metadata": {},
     "output_type": "execute_result"
    }
   ],
   "source": [
    "df_3.tail()"
   ]
  },
  {
   "cell_type": "markdown",
   "metadata": {},
   "source": [
    "#### Plotting Olpe and Hochsauerlandkreis separately in one diagram"
   ]
  },
  {
   "cell_type": "markdown",
   "metadata": {},
   "source": [
    "The diagram shows average daily precipitation rate in Olpe(red color) and in Hocsauerlandskreis(blue color)"
   ]
  },
  {
   "cell_type": "code",
   "execution_count": 31,
   "metadata": {},
   "outputs": [
    {
     "data": {
      "image/png": "[encoded data removed]",
      "text/plain": [
       "<Figure size 1088x544 with 1 Axes>"
      ]
     },
     "metadata": {
      "needs_background": "light"
     },
     "output_type": "display_data"
    }
   ],
   "source": [
    "fig = plt.figure(dpi= 136, figsize=(8,4))\n",
    "plt.rcParams.update({'font.size': 8})\n",
    "\n",
    "plt.plot('day','Olpe_cumulative_prec',  data=df_2, marker='o', markerfacecolor='red',  color='red', linewidth=2)\n",
    "plt.plot('day','HSK_cumulative_prec',  data=df_3, marker='o', markerfacecolor='blue',  color='blue', linewidth=2)\n",
    "plt.legend()\n",
    "\n",
    "plt.xlabel('Time')\n",
    "plt.ylabel('Cumulative Precipitation (mm)')\n",
    "plt.title('Comparison of Cumulative Precipitation in Olpe & HSK over 4 months')\n",
    "plt.xticks(rotation=65)\n",
    "plt.savefig('C:/Users/Toshiba/Desktop/Master courses/Geoinformatics/Exercises/Exam files/cumulative_prec_Olpe_HSK')\n",
    "#216, 1300, 2483, 2947, 3215, 4488, 5468, 6264, 7330 - station IDs\n",
    "\n",
    "plt.show()"
   ]
  },
  {
   "cell_type": "code",
   "execution_count": null,
   "metadata": {},
   "outputs": [],
   "source": []
  },
  {
   "cell_type": "markdown",
   "metadata": {},
   "source": [
    "### Monthly cumulation for Olpe & HSK"
   ]
  },
  {
   "cell_type": "code",
   "execution_count": 36,
   "metadata": {},
   "outputs": [
    {
     "data": {
      "text/html": [
       "<div>\n",
       "<style scoped>\n",
       "    .dataframe tbody tr th:only-of-type {\n",
       "        vertical-align: middle;\n",
       "    }\n",
       "\n",
       "    .dataframe tbody tr th {\n",
       "        vertical-align: top;\n",
       "    }\n",
       "\n",
       "    .dataframe thead th {\n",
       "        text-align: right;\n",
       "    }\n",
       "</style>\n",
       "<table border=\"1\" class=\"dataframe\">\n",
       "  <thead>\n",
       "    <tr style=\"text-align: right;\">\n",
       "      <th></th>\n",
       "      <th>Olpe_avg_daily_prep</th>\n",
       "    </tr>\n",
       "    <tr>\n",
       "      <th>day</th>\n",
       "      <th></th>\n",
       "    </tr>\n",
       "  </thead>\n",
       "  <tbody>\n",
       "    <tr>\n",
       "      <th>2017-04-16</th>\n",
       "      <td>4.50</td>\n",
       "    </tr>\n",
       "    <tr>\n",
       "      <th>2017-04-17</th>\n",
       "      <td>13.30</td>\n",
       "    </tr>\n",
       "    <tr>\n",
       "      <th>2017-04-18</th>\n",
       "      <td>3.35</td>\n",
       "    </tr>\n",
       "    <tr>\n",
       "      <th>2017-04-19</th>\n",
       "      <td>0.00</td>\n",
       "    </tr>\n",
       "    <tr>\n",
       "      <th>2017-04-20</th>\n",
       "      <td>0.00</td>\n",
       "    </tr>\n",
       "  </tbody>\n",
       "</table>\n",
       "</div>"
      ],
      "text/plain": [
       "            Olpe_avg_daily_prep\n",
       "day                            \n",
       "2017-04-16                 4.50\n",
       "2017-04-17                13.30\n",
       "2017-04-18                 3.35\n",
       "2017-04-19                 0.00\n",
       "2017-04-20                 0.00"
      ]
     },
     "execution_count": 36,
     "metadata": {},
     "output_type": "execute_result"
    }
   ],
   "source": [
    "df_2.head()"
   ]
  },
  {
   "cell_type": "markdown",
   "metadata": {},
   "source": [
    "### Monthy cumulative precipitation for Olpe"
   ]
  },
  {
   "cell_type": "code",
   "execution_count": 34,
   "metadata": {},
   "outputs": [],
   "source": [
    "df_2.set_index(\"day\", inplace = True)"
   ]
  },
  {
   "cell_type": "code",
   "execution_count": 37,
   "metadata": {},
   "outputs": [],
   "source": [
    "from datetime import datetime\n",
    "startdate1 = pd.to_datetime(\"2017-04-16\").date()\n",
    "enddate1= pd.to_datetime(\"2017-05-15\").date()\n",
    "Olpe_May_CumPrec = df_2.loc[startdate1:enddate1]\n",
    "Olpe_May_CumPrec.insert(loc=1, column='cumPrec_May', value=(np.cumsum(Olpe_May_CumPrec['Olpe_avg_daily_prep'])))\n",
    "Olpe_May_CumPrec = Olpe_May_CumPrec.reset_index()"
   ]
  },
  {
   "cell_type": "code",
   "execution_count": 50,
   "metadata": {},
   "outputs": [],
   "source": [
    "startdate1 = pd.to_datetime(\"2017-05-16\").date()\n",
    "enddate1= pd.to_datetime(\"2017-06-15\").date()\n",
    "Olpe_June_CumPrec = df_2.loc[startdate1:enddate1]\n",
    "Olpe_June_CumPrec.insert(loc=1, column='cumPrec_June', value=(np.cumsum(Olpe_June_CumPrec['Olpe_avg_daily_prep'])))\n",
    "Olpe_June_CumPrec = Olpe_June_CumPrec.reset_index()"
   ]
  },
  {
   "cell_type": "code",
   "execution_count": 51,
   "metadata": {},
   "outputs": [],
   "source": [
    "startdate1 = pd.to_datetime(\"2017-06-16\").date()\n",
    "enddate1= pd.to_datetime(\"2017-07-15\").date()\n",
    "Olpe_July_CumPrec = df_2.loc[startdate1:enddate1]\n",
    "Olpe_July_CumPrec.insert(loc=1, column='cumPrec_July', value=(np.cumsum(Olpe_July_CumPrec['Olpe_avg_daily_prep'])))\n",
    "Olpe_July_CumPrec = Olpe_July_CumPrec.reset_index()"
   ]
  },
  {
   "cell_type": "code",
   "execution_count": 52,
   "metadata": {},
   "outputs": [],
   "source": [
    "startdate1 = pd.to_datetime(\"2017-07-16\").date()\n",
    "enddate1= pd.to_datetime(\"2017-08-15\").date()\n",
    "Olpe_August_CumPrec = df_2.loc[startdate1:enddate1]\n",
    "Olpe_August_CumPrec.insert(loc=1, column='cumPrec_August', value=(np.cumsum(Olpe_August_CumPrec['Olpe_avg_daily_prep'])))\n",
    "Olpe_August_CumPrec = Olpe_August_CumPrec.reset_index()"
   ]
  },
  {
   "cell_type": "markdown",
   "metadata": {},
   "source": [
    "### Monthy cumulative precipitation for Olpe"
   ]
  },
  {
   "cell_type": "code",
   "execution_count": 58,
   "metadata": {},
   "outputs": [],
   "source": [
    "df_3.set_index(\"day\", inplace = True)"
   ]
  },
  {
   "cell_type": "code",
   "execution_count": 59,
   "metadata": {},
   "outputs": [],
   "source": [
    "from datetime import datetime\n",
    "startdate1 = pd.to_datetime(\"2017-04-16\").date()\n",
    "enddate1= pd.to_datetime(\"2017-05-15\").date()\n",
    "HSK_May_CumPrec = df_3.loc[startdate1:enddate1]\n",
    "HSK_May_CumPrec.insert(loc=1, column='cumPrec_May', value=(np.cumsum(HSK_May_CumPrec['HSK_avg_daily_prep'])))\n",
    "HSK_May_CumPrec = HSK_May_CumPrec.reset_index()"
   ]
  },
  {
   "cell_type": "code",
   "execution_count": 60,
   "metadata": {},
   "outputs": [],
   "source": [
    "startdate1 = pd.to_datetime(\"2017-05-16\").date()\n",
    "enddate1= pd.to_datetime(\"2017-06-15\").date()\n",
    "HSK_June_CumPrec = df_3.loc[startdate1:enddate1]\n",
    "HSK_June_CumPrec.insert(loc=1, column='cumPrec_June', value=(np.cumsum(HSK_June_CumPrec['HSK_avg_daily_prep'])))\n",
    "HSK_June_CumPrec = HSK_June_CumPrec.reset_index()"
   ]
  },
  {
   "cell_type": "code",
   "execution_count": 61,
   "metadata": {},
   "outputs": [],
   "source": [
    "startdate1 = pd.to_datetime(\"2017-06-16\").date()\n",
    "enddate1= pd.to_datetime(\"2017-07-15\").date()\n",
    "HSK_July_CumPrec = df_3.loc[startdate1:enddate1]\n",
    "HSK_July_CumPrec.insert(loc=1, column='cumPrec_July', value=(np.cumsum(HSK_July_CumPrec['HSK_avg_daily_prep'])))\n",
    "HSK_July_CumPrec = HSK_July_CumPrec.reset_index()"
   ]
  },
  {
   "cell_type": "code",
   "execution_count": 62,
   "metadata": {},
   "outputs": [],
   "source": [
    "startdate1 = pd.to_datetime(\"2017-07-16\").date()\n",
    "enddate1= pd.to_datetime(\"2017-08-15\").date()\n",
    "HSK_August_CumPrec = df_3.loc[startdate1:enddate1]\n",
    "HSK_August_CumPrec.insert(loc=1, column='cumPrec_August', value=(np.cumsum(HSK_August_CumPrec['HSK_avg_daily_prep'])))\n",
    "HSK_August_CumPrec = HSK_August_CumPrec.reset_index()"
   ]
  },
  {
   "cell_type": "code",
   "execution_count": 85,
   "metadata": {},
   "outputs": [
    {
     "data": {
      "text/html": [
       "<div>\n",
       "<style scoped>\n",
       "    .dataframe tbody tr th:only-of-type {\n",
       "        vertical-align: middle;\n",
       "    }\n",
       "\n",
       "    .dataframe tbody tr th {\n",
       "        vertical-align: top;\n",
       "    }\n",
       "\n",
       "    .dataframe thead th {\n",
       "        text-align: right;\n",
       "    }\n",
       "</style>\n",
       "<table border=\"1\" class=\"dataframe\">\n",
       "  <thead>\n",
       "    <tr style=\"text-align: right;\">\n",
       "      <th></th>\n",
       "      <th>day</th>\n",
       "      <th>HSK_avg_daily_prep</th>\n",
       "      <th>cumPrec_August</th>\n",
       "    </tr>\n",
       "  </thead>\n",
       "  <tbody>\n",
       "    <tr>\n",
       "      <th>0</th>\n",
       "      <td>2017-07-16</td>\n",
       "      <td>0.183333</td>\n",
       "      <td>0.183333</td>\n",
       "    </tr>\n",
       "    <tr>\n",
       "      <th>1</th>\n",
       "      <td>2017-07-17</td>\n",
       "      <td>1.550000</td>\n",
       "      <td>1.733333</td>\n",
       "    </tr>\n",
       "    <tr>\n",
       "      <th>2</th>\n",
       "      <td>2017-07-18</td>\n",
       "      <td>0.000000</td>\n",
       "      <td>1.733333</td>\n",
       "    </tr>\n",
       "    <tr>\n",
       "      <th>3</th>\n",
       "      <td>2017-07-19</td>\n",
       "      <td>6.000000</td>\n",
       "      <td>7.733333</td>\n",
       "    </tr>\n",
       "    <tr>\n",
       "      <th>4</th>\n",
       "      <td>2017-07-20</td>\n",
       "      <td>9.300000</td>\n",
       "      <td>17.033333</td>\n",
       "    </tr>\n",
       "  </tbody>\n",
       "</table>\n",
       "</div>"
      ],
      "text/plain": [
       "          day  HSK_avg_daily_prep  cumPrec_August\n",
       "0  2017-07-16            0.183333        0.183333\n",
       "1  2017-07-17            1.550000        1.733333\n",
       "2  2017-07-18            0.000000        1.733333\n",
       "3  2017-07-19            6.000000        7.733333\n",
       "4  2017-07-20            9.300000       17.033333"
      ]
     },
     "execution_count": 85,
     "metadata": {},
     "output_type": "execute_result"
    }
   ],
   "source": [
    "HSK_August_CumPrec.head()"
   ]
  },
  {
   "cell_type": "markdown",
   "metadata": {},
   "source": [
    "### Plotting"
   ]
  },
  {
   "cell_type": "code",
   "execution_count": 94,
   "metadata": {},
   "outputs": [
    {
     "data": {
      "image/png": "[encoded data removed]",
      "text/plain": [
       "<Figure size 1088x544 with 1 Axes>"
      ]
     },
     "metadata": {
      "needs_background": "light"
     },
     "output_type": "display_data"
    }
   ],
   "source": [
    "fig = plt.figure(dpi= 136, figsize=(8,4))\n",
    "plt.rcParams.update({'font.size': 8})\n",
    "\n",
    "plt.plot('day','cumPrec_August',  data=Olpe_August_CumPrec, marker='.', markerfacecolor='red',  color='red', linewidth=2,label='Olpe')\n",
    "plt.plot('day','cumPrec_August',  data=HSK_August_CumPrec, marker='.', markerfacecolor='blue',  color='blue', linewidth=2,label='HSK')\n",
    "plt.plot('day','cumPrec_July',  data=Olpe_July_CumPrec, marker='.', markerfacecolor='red',  color='red', linewidth=2,label='')\n",
    "plt.plot('day','cumPrec_July',  data=HSK_July_CumPrec, marker='.', markerfacecolor='blue',  color='blue', linewidth=2,label='')\n",
    "plt.plot('day','cumPrec_June',  data=Olpe_June_CumPrec, marker='.', markerfacecolor='red',  color='red', linewidth=2,label='')\n",
    "plt.plot('day','cumPrec_June',  data=HSK_June_CumPrec, marker='.', markerfacecolor='blue',  color='blue', linewidth=2,label='')\n",
    "plt.plot('day','cumPrec_May',  data=Olpe_May_CumPrec, marker='.', markerfacecolor='red',  color='red', linewidth=2,label='')\n",
    "plt.plot('day','cumPrec_May',  data=HSK_May_CumPrec, marker='.', markerfacecolor='blue',  color='blue', linewidth=2,label='')\n",
    "plt.legend()\n",
    "\n",
    "plt.xlabel('Time')\n",
    "plt.ylabel('Cumulative Precipitation (mm)')\n",
    "plt.title('Comparison of Cumulative Precipitation in Olpe & HSK over 4 months')\n",
    "plt.xticks(rotation=65)\n",
    "#plt.savefig('C:/Users/Toshiba/Desktop/Master courses/Geoinformatics/Exercises/Exam files/cumulative_prec_Olpe_HSK')\n",
    "\n",
    "\n",
    "plt.show()"
   ]
  },
  {
   "cell_type": "code",
   "execution_count": null,
   "metadata": {},
   "outputs": [],
   "source": []
  }
 ],
 "metadata": {
  "kernelspec": {
   "display_name": "Python 3",
   "language": "python",
   "name": "python3"
  },
  "language_info": {
   "codemirror_mode": {
    "name": "ipython",
    "version": 3
   },
   "file_extension": ".py",
   "mimetype": "text/x-python",
   "name": "python",
   "nbconvert_exporter": "python",
   "pygments_lexer": "ipython3",
   "version": "3.8.3"
  }
 },
 "nbformat": 4,
 "nbformat_minor": 4
}
