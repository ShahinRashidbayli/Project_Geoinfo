{
 "cells": [
  {
   "cell_type": "code",
   "execution_count": 100,
   "metadata": {},
   "outputs": [],
   "source": [
    "import pandas as pd\n",
    "import numpy as np\n",
    "from matplotlib import pyplot as plt\n",
    "import datetime as dt"
   ]
  },
  {
   "cell_type": "code",
   "execution_count": 101,
   "metadata": {},
   "outputs": [],
   "source": [
    "data = pd.read_csv('C:/Users/Toshiba/Documents/GitHub/MIE_2.02_GeoInfo_WS2020/data/generated/DWD/hourly/precipitation/historical/prec_ts_appended_4.csv',sep=\";\")"
   ]
  },
  {
   "cell_type": "code",
   "execution_count": 102,
   "metadata": {},
   "outputs": [
    {
     "data": {
      "text/html": [
       "<div>\n",
       "<style scoped>\n",
       "    .dataframe tbody tr th:only-of-type {\n",
       "        vertical-align: middle;\n",
       "    }\n",
       "\n",
       "    .dataframe tbody tr th {\n",
       "        vertical-align: top;\n",
       "    }\n",
       "\n",
       "    .dataframe thead th {\n",
       "        text-align: right;\n",
       "    }\n",
       "</style>\n",
       "<table border=\"1\" class=\"dataframe\">\n",
       "  <thead>\n",
       "    <tr style=\"text-align: right;\">\n",
       "      <th></th>\n",
       "      <th>mess_datum</th>\n",
       "      <th>station_id</th>\n",
       "      <th>r1</th>\n",
       "      <th>longitude</th>\n",
       "      <th>latitude</th>\n",
       "    </tr>\n",
       "  </thead>\n",
       "  <tbody>\n",
       "    <tr>\n",
       "      <th>244838</th>\n",
       "      <td>2017-08-16 20:00:00</td>\n",
       "      <td>15000</td>\n",
       "      <td>0.0</td>\n",
       "      <td>6.0244</td>\n",
       "      <td>50.7983</td>\n",
       "    </tr>\n",
       "    <tr>\n",
       "      <th>244839</th>\n",
       "      <td>2017-08-16 21:00:00</td>\n",
       "      <td>15000</td>\n",
       "      <td>0.0</td>\n",
       "      <td>6.0244</td>\n",
       "      <td>50.7983</td>\n",
       "    </tr>\n",
       "    <tr>\n",
       "      <th>244840</th>\n",
       "      <td>2017-08-16 22:00:00</td>\n",
       "      <td>15000</td>\n",
       "      <td>0.0</td>\n",
       "      <td>6.0244</td>\n",
       "      <td>50.7983</td>\n",
       "    </tr>\n",
       "    <tr>\n",
       "      <th>244841</th>\n",
       "      <td>2017-08-16 23:00:00</td>\n",
       "      <td>15000</td>\n",
       "      <td>0.0</td>\n",
       "      <td>6.0244</td>\n",
       "      <td>50.7983</td>\n",
       "    </tr>\n",
       "    <tr>\n",
       "      <th>244842</th>\n",
       "      <td>2017-08-17 00:00:00</td>\n",
       "      <td>15000</td>\n",
       "      <td>0.0</td>\n",
       "      <td>6.0244</td>\n",
       "      <td>50.7983</td>\n",
       "    </tr>\n",
       "  </tbody>\n",
       "</table>\n",
       "</div>"
      ],
      "text/plain": [
       "                 mess_datum  station_id   r1  longitude  latitude\n",
       "244838  2017-08-16 20:00:00       15000  0.0     6.0244   50.7983\n",
       "244839  2017-08-16 21:00:00       15000  0.0     6.0244   50.7983\n",
       "244840  2017-08-16 22:00:00       15000  0.0     6.0244   50.7983\n",
       "244841  2017-08-16 23:00:00       15000  0.0     6.0244   50.7983\n",
       "244842  2017-08-17 00:00:00       15000  0.0     6.0244   50.7983"
      ]
     },
     "execution_count": 102,
     "metadata": {},
     "output_type": "execute_result"
    }
   ],
   "source": [
    "data.tail()"
   ]
  },
  {
   "cell_type": "code",
   "execution_count": 103,
   "metadata": {},
   "outputs": [],
   "source": [
    "data['day1'] = pd.to_datetime(data['mess_datum'])"
   ]
  },
  {
   "cell_type": "code",
   "execution_count": 104,
   "metadata": {},
   "outputs": [],
   "source": [
    "day = data['day1'].dt.date"
   ]
  },
  {
   "cell_type": "code",
   "execution_count": 105,
   "metadata": {},
   "outputs": [
    {
     "data": {
      "text/html": [
       "<div>\n",
       "<style scoped>\n",
       "    .dataframe tbody tr th:only-of-type {\n",
       "        vertical-align: middle;\n",
       "    }\n",
       "\n",
       "    .dataframe tbody tr th {\n",
       "        vertical-align: top;\n",
       "    }\n",
       "\n",
       "    .dataframe thead th {\n",
       "        text-align: right;\n",
       "    }\n",
       "</style>\n",
       "<table border=\"1\" class=\"dataframe\">\n",
       "  <thead>\n",
       "    <tr style=\"text-align: right;\">\n",
       "      <th></th>\n",
       "      <th>mess_datum</th>\n",
       "      <th>station_id</th>\n",
       "      <th>r1</th>\n",
       "      <th>longitude</th>\n",
       "      <th>latitude</th>\n",
       "      <th>day1</th>\n",
       "    </tr>\n",
       "  </thead>\n",
       "  <tbody>\n",
       "    <tr>\n",
       "      <th>244838</th>\n",
       "      <td>2017-08-16 20:00:00</td>\n",
       "      <td>15000</td>\n",
       "      <td>0.0</td>\n",
       "      <td>6.0244</td>\n",
       "      <td>50.7983</td>\n",
       "      <td>2017-08-16 20:00:00</td>\n",
       "    </tr>\n",
       "    <tr>\n",
       "      <th>244839</th>\n",
       "      <td>2017-08-16 21:00:00</td>\n",
       "      <td>15000</td>\n",
       "      <td>0.0</td>\n",
       "      <td>6.0244</td>\n",
       "      <td>50.7983</td>\n",
       "      <td>2017-08-16 21:00:00</td>\n",
       "    </tr>\n",
       "    <tr>\n",
       "      <th>244840</th>\n",
       "      <td>2017-08-16 22:00:00</td>\n",
       "      <td>15000</td>\n",
       "      <td>0.0</td>\n",
       "      <td>6.0244</td>\n",
       "      <td>50.7983</td>\n",
       "      <td>2017-08-16 22:00:00</td>\n",
       "    </tr>\n",
       "    <tr>\n",
       "      <th>244841</th>\n",
       "      <td>2017-08-16 23:00:00</td>\n",
       "      <td>15000</td>\n",
       "      <td>0.0</td>\n",
       "      <td>6.0244</td>\n",
       "      <td>50.7983</td>\n",
       "      <td>2017-08-16 23:00:00</td>\n",
       "    </tr>\n",
       "    <tr>\n",
       "      <th>244842</th>\n",
       "      <td>2017-08-17 00:00:00</td>\n",
       "      <td>15000</td>\n",
       "      <td>0.0</td>\n",
       "      <td>6.0244</td>\n",
       "      <td>50.7983</td>\n",
       "      <td>2017-08-17 00:00:00</td>\n",
       "    </tr>\n",
       "  </tbody>\n",
       "</table>\n",
       "</div>"
      ],
      "text/plain": [
       "                 mess_datum  station_id   r1  longitude  latitude  \\\n",
       "244838  2017-08-16 20:00:00       15000  0.0     6.0244   50.7983   \n",
       "244839  2017-08-16 21:00:00       15000  0.0     6.0244   50.7983   \n",
       "244840  2017-08-16 22:00:00       15000  0.0     6.0244   50.7983   \n",
       "244841  2017-08-16 23:00:00       15000  0.0     6.0244   50.7983   \n",
       "244842  2017-08-17 00:00:00       15000  0.0     6.0244   50.7983   \n",
       "\n",
       "                      day1  \n",
       "244838 2017-08-16 20:00:00  \n",
       "244839 2017-08-16 21:00:00  \n",
       "244840 2017-08-16 22:00:00  \n",
       "244841 2017-08-16 23:00:00  \n",
       "244842 2017-08-17 00:00:00  "
      ]
     },
     "execution_count": 105,
     "metadata": {},
     "output_type": "execute_result"
    }
   ],
   "source": [
    "data.tail()"
   ]
  },
  {
   "cell_type": "code",
   "execution_count": 106,
   "metadata": {},
   "outputs": [],
   "source": [
    "data['mess_datum']=pd.to_datetime(data.mess_datum, format='%Y/%m/%d %H:%M:%S')"
   ]
  },
  {
   "cell_type": "code",
   "execution_count": 107,
   "metadata": {},
   "outputs": [],
   "source": [
    "data.insert(loc=6, column='day', value=(data.mess_datum.dt.date))"
   ]
  },
  {
   "cell_type": "code",
   "execution_count": 108,
   "metadata": {},
   "outputs": [
    {
     "data": {
      "text/html": [
       "<div>\n",
       "<style scoped>\n",
       "    .dataframe tbody tr th:only-of-type {\n",
       "        vertical-align: middle;\n",
       "    }\n",
       "\n",
       "    .dataframe tbody tr th {\n",
       "        vertical-align: top;\n",
       "    }\n",
       "\n",
       "    .dataframe thead th {\n",
       "        text-align: right;\n",
       "    }\n",
       "</style>\n",
       "<table border=\"1\" class=\"dataframe\">\n",
       "  <thead>\n",
       "    <tr style=\"text-align: right;\">\n",
       "      <th></th>\n",
       "      <th>mess_datum</th>\n",
       "      <th>station_id</th>\n",
       "      <th>r1</th>\n",
       "      <th>longitude</th>\n",
       "      <th>latitude</th>\n",
       "      <th>day1</th>\n",
       "      <th>day</th>\n",
       "    </tr>\n",
       "  </thead>\n",
       "  <tbody>\n",
       "    <tr>\n",
       "      <th>0</th>\n",
       "      <td>2017-04-16 00:00:00</td>\n",
       "      <td>216</td>\n",
       "      <td>0.0</td>\n",
       "      <td>7.8807</td>\n",
       "      <td>51.1143</td>\n",
       "      <td>2017-04-16 00:00:00</td>\n",
       "      <td>2017-04-16</td>\n",
       "    </tr>\n",
       "    <tr>\n",
       "      <th>1</th>\n",
       "      <td>2017-04-16 01:00:00</td>\n",
       "      <td>216</td>\n",
       "      <td>0.1</td>\n",
       "      <td>7.8807</td>\n",
       "      <td>51.1143</td>\n",
       "      <td>2017-04-16 01:00:00</td>\n",
       "      <td>2017-04-16</td>\n",
       "    </tr>\n",
       "    <tr>\n",
       "      <th>2</th>\n",
       "      <td>2017-04-16 02:00:00</td>\n",
       "      <td>216</td>\n",
       "      <td>0.1</td>\n",
       "      <td>7.8807</td>\n",
       "      <td>51.1143</td>\n",
       "      <td>2017-04-16 02:00:00</td>\n",
       "      <td>2017-04-16</td>\n",
       "    </tr>\n",
       "    <tr>\n",
       "      <th>3</th>\n",
       "      <td>2017-04-16 03:00:00</td>\n",
       "      <td>216</td>\n",
       "      <td>0.0</td>\n",
       "      <td>7.8807</td>\n",
       "      <td>51.1143</td>\n",
       "      <td>2017-04-16 03:00:00</td>\n",
       "      <td>2017-04-16</td>\n",
       "    </tr>\n",
       "    <tr>\n",
       "      <th>4</th>\n",
       "      <td>2017-04-16 04:00:00</td>\n",
       "      <td>216</td>\n",
       "      <td>0.0</td>\n",
       "      <td>7.8807</td>\n",
       "      <td>51.1143</td>\n",
       "      <td>2017-04-16 04:00:00</td>\n",
       "      <td>2017-04-16</td>\n",
       "    </tr>\n",
       "  </tbody>\n",
       "</table>\n",
       "</div>"
      ],
      "text/plain": [
       "           mess_datum  station_id   r1  longitude  latitude  \\\n",
       "0 2017-04-16 00:00:00         216  0.0     7.8807   51.1143   \n",
       "1 2017-04-16 01:00:00         216  0.1     7.8807   51.1143   \n",
       "2 2017-04-16 02:00:00         216  0.1     7.8807   51.1143   \n",
       "3 2017-04-16 03:00:00         216  0.0     7.8807   51.1143   \n",
       "4 2017-04-16 04:00:00         216  0.0     7.8807   51.1143   \n",
       "\n",
       "                 day1         day  \n",
       "0 2017-04-16 00:00:00  2017-04-16  \n",
       "1 2017-04-16 01:00:00  2017-04-16  \n",
       "2 2017-04-16 02:00:00  2017-04-16  \n",
       "3 2017-04-16 03:00:00  2017-04-16  \n",
       "4 2017-04-16 04:00:00  2017-04-16  "
      ]
     },
     "execution_count": 108,
     "metadata": {},
     "output_type": "execute_result"
    }
   ],
   "source": [
    "data.head()"
   ]
  },
  {
   "cell_type": "code",
   "execution_count": 109,
   "metadata": {},
   "outputs": [],
   "source": [
    "del data['day1'] "
   ]
  },
  {
   "cell_type": "code",
   "execution_count": 110,
   "metadata": {},
   "outputs": [],
   "source": [
    "data = data.groupby(['day','station_id'])['r1'].sum().to_frame(name = 'daily_prep').reset_index()"
   ]
  },
  {
   "cell_type": "code",
   "execution_count": 111,
   "metadata": {},
   "outputs": [
    {
     "data": {
      "text/html": [
       "<div>\n",
       "<style scoped>\n",
       "    .dataframe tbody tr th:only-of-type {\n",
       "        vertical-align: middle;\n",
       "    }\n",
       "\n",
       "    .dataframe tbody tr th {\n",
       "        vertical-align: top;\n",
       "    }\n",
       "\n",
       "    .dataframe thead th {\n",
       "        text-align: right;\n",
       "    }\n",
       "</style>\n",
       "<table border=\"1\" class=\"dataframe\">\n",
       "  <thead>\n",
       "    <tr style=\"text-align: right;\">\n",
       "      <th></th>\n",
       "      <th>day</th>\n",
       "      <th>station_id</th>\n",
       "      <th>daily_prep</th>\n",
       "    </tr>\n",
       "  </thead>\n",
       "  <tbody>\n",
       "    <tr>\n",
       "      <th>10285</th>\n",
       "      <td>2017-08-17</td>\n",
       "      <td>13671</td>\n",
       "      <td>0.0</td>\n",
       "    </tr>\n",
       "    <tr>\n",
       "      <th>10286</th>\n",
       "      <td>2017-08-17</td>\n",
       "      <td>13696</td>\n",
       "      <td>0.0</td>\n",
       "    </tr>\n",
       "    <tr>\n",
       "      <th>10287</th>\n",
       "      <td>2017-08-17</td>\n",
       "      <td>13700</td>\n",
       "      <td>0.0</td>\n",
       "    </tr>\n",
       "    <tr>\n",
       "      <th>10288</th>\n",
       "      <td>2017-08-17</td>\n",
       "      <td>13713</td>\n",
       "      <td>0.0</td>\n",
       "    </tr>\n",
       "    <tr>\n",
       "      <th>10289</th>\n",
       "      <td>2017-08-17</td>\n",
       "      <td>15000</td>\n",
       "      <td>0.0</td>\n",
       "    </tr>\n",
       "  </tbody>\n",
       "</table>\n",
       "</div>"
      ],
      "text/plain": [
       "              day  station_id  daily_prep\n",
       "10285  2017-08-17       13671         0.0\n",
       "10286  2017-08-17       13696         0.0\n",
       "10287  2017-08-17       13700         0.0\n",
       "10288  2017-08-17       13713         0.0\n",
       "10289  2017-08-17       15000         0.0"
      ]
     },
     "execution_count": 111,
     "metadata": {},
     "output_type": "execute_result"
    }
   ],
   "source": [
    "data.tail()"
   ]
  },
  {
   "cell_type": "code",
   "execution_count": 112,
   "metadata": {},
   "outputs": [
    {
     "data": {
      "text/plain": [
       "pandas.core.series.Series"
      ]
     },
     "execution_count": 112,
     "metadata": {},
     "output_type": "execute_result"
    }
   ],
   "source": [
    "data['station_id'] = data['station_id'].astype(int)\n",
    "type(data['station_id'])"
   ]
  },
  {
   "cell_type": "code",
   "execution_count": 113,
   "metadata": {},
   "outputs": [],
   "source": [
    "#dividing dataframe according to station IDs\n",
    "\n",
    "Olpe = data[data['station_id'].isin([216,2947,5468])]#216, 2947,5468\n",
    "HSK = data[data['station_id'].isin([1300,2483,3215,4488,6264,7330])] #1300,2483,3215,4488,6264,7330\n",
    "Siegen_WTGstein = data[data['station_id'].isin([796,389,390,4692])] #796,389,390,4692\n",
    "Oberbergisher_Kreis = data[data['station_id'].isin([4127,5619])] #4127,5619\n",
    "Markisher_Kreis = data[data['station_id'].isin([3098,3499,13713])] #3098,3499,13713\n",
    "Ennepe_Ruhr_Kreis = data[data['station_id'].isin([6313,13700])] #6313,13700\n",
    "Unna = data[data['station_id'].isin([6276])] #6276\n",
    "Soest = data[data['station_id'].isin([3031,4313,4400,5360,5480])] #3031,4313,4400,5360,5480\n",
    "Paderborn = data[data['station_id'].isin([934,3028,4368,5699])] #934,3028,4368,5699\n",
    "Hoexter = data[data['station_id'].isin([613,644,5347])] #613,644,5347"
   ]
  },
  {
   "cell_type": "code",
   "execution_count": 114,
   "metadata": {},
   "outputs": [
    {
     "data": {
      "text/html": [
       "<div>\n",
       "<style scoped>\n",
       "    .dataframe tbody tr th:only-of-type {\n",
       "        vertical-align: middle;\n",
       "    }\n",
       "\n",
       "    .dataframe tbody tr th {\n",
       "        vertical-align: top;\n",
       "    }\n",
       "\n",
       "    .dataframe thead th {\n",
       "        text-align: right;\n",
       "    }\n",
       "</style>\n",
       "<table border=\"1\" class=\"dataframe\">\n",
       "  <thead>\n",
       "    <tr style=\"text-align: right;\">\n",
       "      <th></th>\n",
       "      <th>day</th>\n",
       "      <th>station_id</th>\n",
       "      <th>daily_prep</th>\n",
       "    </tr>\n",
       "  </thead>\n",
       "  <tbody>\n",
       "    <tr>\n",
       "      <th>0</th>\n",
       "      <td>2017-04-16</td>\n",
       "      <td>216</td>\n",
       "      <td>4.3</td>\n",
       "    </tr>\n",
       "    <tr>\n",
       "      <th>33</th>\n",
       "      <td>2017-04-16</td>\n",
       "      <td>2947</td>\n",
       "      <td>4.7</td>\n",
       "    </tr>\n",
       "    <tr>\n",
       "      <th>83</th>\n",
       "      <td>2017-04-17</td>\n",
       "      <td>216</td>\n",
       "      <td>14.6</td>\n",
       "    </tr>\n",
       "    <tr>\n",
       "      <th>116</th>\n",
       "      <td>2017-04-17</td>\n",
       "      <td>2947</td>\n",
       "      <td>12.0</td>\n",
       "    </tr>\n",
       "    <tr>\n",
       "      <th>166</th>\n",
       "      <td>2017-04-18</td>\n",
       "      <td>216</td>\n",
       "      <td>2.6</td>\n",
       "    </tr>\n",
       "    <tr>\n",
       "      <th>...</th>\n",
       "      <td>...</td>\n",
       "      <td>...</td>\n",
       "      <td>...</td>\n",
       "    </tr>\n",
       "    <tr>\n",
       "      <th>10074</th>\n",
       "      <td>2017-08-15</td>\n",
       "      <td>2947</td>\n",
       "      <td>0.3</td>\n",
       "    </tr>\n",
       "    <tr>\n",
       "      <th>10124</th>\n",
       "      <td>2017-08-16</td>\n",
       "      <td>216</td>\n",
       "      <td>11.7</td>\n",
       "    </tr>\n",
       "    <tr>\n",
       "      <th>10157</th>\n",
       "      <td>2017-08-16</td>\n",
       "      <td>2947</td>\n",
       "      <td>7.1</td>\n",
       "    </tr>\n",
       "    <tr>\n",
       "      <th>10207</th>\n",
       "      <td>2017-08-17</td>\n",
       "      <td>216</td>\n",
       "      <td>0.0</td>\n",
       "    </tr>\n",
       "    <tr>\n",
       "      <th>10240</th>\n",
       "      <td>2017-08-17</td>\n",
       "      <td>2947</td>\n",
       "      <td>0.0</td>\n",
       "    </tr>\n",
       "  </tbody>\n",
       "</table>\n",
       "<p>248 rows × 3 columns</p>\n",
       "</div>"
      ],
      "text/plain": [
       "              day  station_id  daily_prep\n",
       "0      2017-04-16         216         4.3\n",
       "33     2017-04-16        2947         4.7\n",
       "83     2017-04-17         216        14.6\n",
       "116    2017-04-17        2947        12.0\n",
       "166    2017-04-18         216         2.6\n",
       "...           ...         ...         ...\n",
       "10074  2017-08-15        2947         0.3\n",
       "10124  2017-08-16         216        11.7\n",
       "10157  2017-08-16        2947         7.1\n",
       "10207  2017-08-17         216         0.0\n",
       "10240  2017-08-17        2947         0.0\n",
       "\n",
       "[248 rows x 3 columns]"
      ]
     },
     "execution_count": 114,
     "metadata": {},
     "output_type": "execute_result"
    }
   ],
   "source": [
    "Olpe"
   ]
  },
  {
   "cell_type": "code",
   "execution_count": 115,
   "metadata": {},
   "outputs": [],
   "source": [
    "#calculating average daily precipitation for each County separately\n",
    "\n",
    "Olpe = Olpe.groupby(['day'])['daily_prep'].mean().to_frame(name = 'avg_daily_prep').reset_index()\n",
    "HSK = HSK.groupby(['day'])['daily_prep'].mean().to_frame(name = 'avg_daily_prep').reset_index()\n",
    "Siegen_WTGstein = Siegen_WTGstein.groupby(['day'])['daily_prep'].mean().to_frame(name = 'avg_daily_prep').reset_index()\n",
    "Oberbergisher_Kreis = Oberbergisher_Kreis.groupby(['day'])['daily_prep'].mean().to_frame(name = 'avg_daily_prep').reset_index()\n",
    "Markisher_Kreis = Markisher_Kreis.groupby(['day'])['daily_prep'].mean().to_frame(name = 'avg_daily_prep').reset_index()\n",
    "Ennepe_Ruhr_Kreis = Ennepe_Ruhr_Kreis.groupby(['day'])['daily_prep'].mean().to_frame(name = 'avg_daily_prep').reset_index()\n",
    "Unna = Unna.groupby(['day'])['daily_prep'].mean().to_frame(name = 'avg_daily_prep').reset_index()\n",
    "Soest = Soest.groupby(['day'])['daily_prep'].mean().to_frame(name = 'avg_daily_prep').reset_index()\n",
    "Paderborn = Paderborn.groupby(['day'])['daily_prep'].mean().to_frame(name = 'avg_daily_prep').reset_index()\n",
    "Hoexter = Hoexter.groupby(['day'])['daily_prep'].mean().to_frame(name = 'avg_daily_prep').reset_index() "
   ]
  },
  {
   "cell_type": "code",
   "execution_count": 121,
   "metadata": {},
   "outputs": [],
   "source": [
    "#cumulating average daily precipitation values for each County separately\n",
    "\n",
    "Olpe.insert(loc=2, column='Olpe', value=(np.cumsum(Olpe['avg_daily_prep'])))\n",
    "HSK.insert(loc=2, column='HSK', value=(np.cumsum(HSK['avg_daily_prep'])))\n",
    "Siegen_WTGstein.insert(loc=2, column='Siegen_WTG', value=(np.cumsum(Siegen_WTGstein['avg_daily_prep'])))\n",
    "Oberbergisher_Kreis.insert(loc=2, column='Oberbergisher_Kreis', value=(np.cumsum(Oberbergisher_Kreis['avg_daily_prep'])))\n",
    "Markisher_Kreis.insert(loc=2, column='Maerkisher_Kreis', value=(np.cumsum(Markisher_Kreis['avg_daily_prep'])))\n",
    "Ennepe_Ruhr_Kreis.insert(loc=2, column='Ennepe_Ruhr_Kreis', value=(np.cumsum(Ennepe_Ruhr_Kreis['avg_daily_prep'])))\n",
    "Unna.insert(loc=2, column='Unna', value=(np.cumsum(Unna['avg_daily_prep'])))\n",
    "Soest.insert(loc=2, column='Soest', value=(np.cumsum(Soest['avg_daily_prep'])))\n",
    "Paderborn.insert(loc=2, column='Paderborn', value=(np.cumsum(Paderborn['avg_daily_prep'])))\n",
    "Hoexter.insert(loc=2, column='Hoexter', value=(np.cumsum(Hoexter['avg_daily_prep'])))"
   ]
  },
  {
   "cell_type": "code",
   "execution_count": 122,
   "metadata": {},
   "outputs": [
    {
     "data": {
      "text/html": [
       "<div>\n",
       "<style scoped>\n",
       "    .dataframe tbody tr th:only-of-type {\n",
       "        vertical-align: middle;\n",
       "    }\n",
       "\n",
       "    .dataframe tbody tr th {\n",
       "        vertical-align: top;\n",
       "    }\n",
       "\n",
       "    .dataframe thead th {\n",
       "        text-align: right;\n",
       "    }\n",
       "</style>\n",
       "<table border=\"1\" class=\"dataframe\">\n",
       "  <thead>\n",
       "    <tr style=\"text-align: right;\">\n",
       "      <th></th>\n",
       "      <th>day</th>\n",
       "      <th>avg_daily_prep</th>\n",
       "      <th>Soest</th>\n",
       "      <th>Soest_cumulative_prec</th>\n",
       "    </tr>\n",
       "  </thead>\n",
       "  <tbody>\n",
       "    <tr>\n",
       "      <th>119</th>\n",
       "      <td>2017-08-13</td>\n",
       "      <td>0.12</td>\n",
       "      <td>369.08</td>\n",
       "      <td>369.08</td>\n",
       "    </tr>\n",
       "    <tr>\n",
       "      <th>120</th>\n",
       "      <td>2017-08-14</td>\n",
       "      <td>0.02</td>\n",
       "      <td>369.10</td>\n",
       "      <td>369.10</td>\n",
       "    </tr>\n",
       "    <tr>\n",
       "      <th>121</th>\n",
       "      <td>2017-08-15</td>\n",
       "      <td>0.06</td>\n",
       "      <td>369.16</td>\n",
       "      <td>369.16</td>\n",
       "    </tr>\n",
       "    <tr>\n",
       "      <th>122</th>\n",
       "      <td>2017-08-16</td>\n",
       "      <td>0.66</td>\n",
       "      <td>369.82</td>\n",
       "      <td>369.82</td>\n",
       "    </tr>\n",
       "    <tr>\n",
       "      <th>123</th>\n",
       "      <td>2017-08-17</td>\n",
       "      <td>0.00</td>\n",
       "      <td>369.82</td>\n",
       "      <td>369.82</td>\n",
       "    </tr>\n",
       "  </tbody>\n",
       "</table>\n",
       "</div>"
      ],
      "text/plain": [
       "            day  avg_daily_prep   Soest  Soest_cumulative_prec\n",
       "119  2017-08-13            0.12  369.08                 369.08\n",
       "120  2017-08-14            0.02  369.10                 369.10\n",
       "121  2017-08-15            0.06  369.16                 369.16\n",
       "122  2017-08-16            0.66  369.82                 369.82\n",
       "123  2017-08-17            0.00  369.82                 369.82"
      ]
     },
     "execution_count": 122,
     "metadata": {},
     "output_type": "execute_result"
    }
   ],
   "source": [
    "Soest.tail()"
   ]
  },
  {
   "cell_type": "markdown",
   "metadata": {},
   "source": [
    "### Plotting Cumulative precipitation"
   ]
  },
  {
   "cell_type": "markdown",
   "metadata": {},
   "source": [
    "##### Plotting cumulative precipitation of the 10 Counties separately in one diagram  "
   ]
  },
  {
   "cell_type": "code",
   "execution_count": 124,
   "metadata": {},
   "outputs": [
    {
     "data": {
      "image/png": "[encoded data removed]",
      "text/plain": [
       "<Figure size 1088x544 with 1 Axes>"
      ]
     },
     "metadata": {
      "needs_background": "light"
     },
     "output_type": "display_data"
    }
   ],
   "source": [
    "fig = plt.figure(dpi= 136, figsize=(8,4))\n",
    "plt.rcParams.update({'font.size': 8})\n",
    "\n",
    "plt.plot('day','Olpe',  data=Olpe, marker='', markerfacecolor='red',  color='red', linewidth=1)\n",
    "plt.plot('day','HSK',  data=HSK, marker='', markerfacecolor='blue',  color='blue', linewidth=1)\n",
    "plt.plot('day','Siegen_WTG',  data=Siegen_WTGstein, marker='', markerfacecolor='green',  color='green', linewidth=1)\n",
    "plt.plot('day','Oberbergisher_Kreis',  data=Oberbergisher_Kreis, marker='', markerfacecolor='pink',  color='pink', linewidth=1)\n",
    "plt.plot('day','Maerkisher_Kreis',  data=Markisher_Kreis, marker='', markerfacecolor='black',  color='black', linewidth=1)\n",
    "plt.plot('day','Ennepe_Ruhr_Kreis',  data=Ennepe_Ruhr_Kreis, marker='', markerfacecolor='brown',  color='brown', linewidth=1)\n",
    "plt.plot('day','Unna',  data=Unna, marker='', markerfacecolor='yellow',  color='yellow', linewidth=1)\n",
    "plt.plot('day','Soest',  data=Soest, marker='', markerfacecolor='purple',  color='purple', linewidth=1)\n",
    "plt.plot('day','Paderborn',  data=Paderborn, marker='', markerfacecolor='orange',  color='orange', linewidth=1)\n",
    "plt.plot('day','Hoexter',  data=Hoexter, marker='', markerfacecolor='skyblue',  color='skyblue', linewidth=1)\n",
    "\n",
    "plt.legend()\n",
    "\n",
    "plt.xlabel('Time')\n",
    "plt.ylabel('Cumulative Precipitation (mm)')\n",
    "plt.title('Comparison of Cumulative Precipitation in Counties of interest over 4 months')\n",
    "plt.xticks(rotation=65)\n",
    "plt.savefig('C:/Users/Toshiba/Desktop/Master courses/Geoinformatics/Exercises/Exam files/cumulative_prec_10_counties')\n",
    "\n",
    "plt.show()"
   ]
  },
  {
   "cell_type": "code",
   "execution_count": null,
   "metadata": {},
   "outputs": [],
   "source": []
  }
 ],
 "metadata": {
  "kernelspec": {
   "display_name": "Python 3",
   "language": "python",
   "name": "python3"
  },
  "language_info": {
   "codemirror_mode": {
    "name": "ipython",
    "version": 3
   },
   "file_extension": ".py",
   "mimetype": "text/x-python",
   "name": "python",
   "nbconvert_exporter": "python",
   "pygments_lexer": "ipython3",
   "version": "3.8.3"
  }
 },
 "nbformat": 4,
 "nbformat_minor": 4
}
